{
  "cells": [
    {
      "cell_type": "markdown",
      "metadata": {
        "id": "view-in-github",
        "colab_type": "text"
      },
      "source": [
        "<a href=\"https://colab.research.google.com/github/pavanlucky02/Corizo/blob/main/Major_project_.ipynb\" target=\"_parent\"><img src=\"https://colab.research.google.com/assets/colab-badge.svg\" alt=\"Open In Colab\"/></a>"
      ]
    },
    {
      "cell_type": "markdown",
      "id": "b28b1f48",
      "metadata": {
        "id": "b28b1f48"
      },
      "source": [
        "# Data Preprocessing"
      ]
    },
    {
      "cell_type": "code",
      "execution_count": null,
      "id": "05c2fc0f",
      "metadata": {
        "id": "05c2fc0f"
      },
      "outputs": [],
      "source": [
        "# importing necessary modules\n",
        "\n",
        "import numpy as np\n",
        "import pandas as pd\n",
        "import matplotlib.pyplot as plt\n",
        "import seaborn as sns\n",
        "\n",
        "%matplotlib inline"
      ]
    },
    {
      "cell_type": "code",
      "execution_count": null,
      "id": "254f645d",
      "metadata": {
        "id": "254f645d",
        "outputId": "e341915c-19b4-43e8-ce98-7907d2ec95eb"
      },
      "outputs": [
        {
          "data": {
            "text/html": [
              "<div>\n",
              "<style scoped>\n",
              "    .dataframe tbody tr th:only-of-type {\n",
              "        vertical-align: middle;\n",
              "    }\n",
              "\n",
              "    .dataframe tbody tr th {\n",
              "        vertical-align: top;\n",
              "    }\n",
              "\n",
              "    .dataframe thead th {\n",
              "        text-align: right;\n",
              "    }\n",
              "</style>\n",
              "<table border=\"1\" class=\"dataframe\">\n",
              "  <thead>\n",
              "    <tr style=\"text-align: right;\">\n",
              "      <th></th>\n",
              "      <th>id</th>\n",
              "      <th>age</th>\n",
              "      <th>gender</th>\n",
              "      <th>height</th>\n",
              "      <th>weight</th>\n",
              "      <th>ap_hi</th>\n",
              "      <th>ap_lo</th>\n",
              "      <th>cholesterol</th>\n",
              "      <th>gluc</th>\n",
              "      <th>smoke</th>\n",
              "      <th>alco</th>\n",
              "      <th>active</th>\n",
              "      <th>cardio</th>\n",
              "    </tr>\n",
              "  </thead>\n",
              "  <tbody>\n",
              "    <tr>\n",
              "      <th>0</th>\n",
              "      <td>0</td>\n",
              "      <td>18393</td>\n",
              "      <td>2</td>\n",
              "      <td>168</td>\n",
              "      <td>62.0</td>\n",
              "      <td>110</td>\n",
              "      <td>80</td>\n",
              "      <td>1</td>\n",
              "      <td>1</td>\n",
              "      <td>0</td>\n",
              "      <td>0</td>\n",
              "      <td>1</td>\n",
              "      <td>0</td>\n",
              "    </tr>\n",
              "    <tr>\n",
              "      <th>1</th>\n",
              "      <td>1</td>\n",
              "      <td>20228</td>\n",
              "      <td>1</td>\n",
              "      <td>156</td>\n",
              "      <td>85.0</td>\n",
              "      <td>140</td>\n",
              "      <td>90</td>\n",
              "      <td>3</td>\n",
              "      <td>1</td>\n",
              "      <td>0</td>\n",
              "      <td>0</td>\n",
              "      <td>1</td>\n",
              "      <td>1</td>\n",
              "    </tr>\n",
              "    <tr>\n",
              "      <th>2</th>\n",
              "      <td>2</td>\n",
              "      <td>18857</td>\n",
              "      <td>1</td>\n",
              "      <td>165</td>\n",
              "      <td>64.0</td>\n",
              "      <td>130</td>\n",
              "      <td>70</td>\n",
              "      <td>3</td>\n",
              "      <td>1</td>\n",
              "      <td>0</td>\n",
              "      <td>0</td>\n",
              "      <td>0</td>\n",
              "      <td>1</td>\n",
              "    </tr>\n",
              "    <tr>\n",
              "      <th>3</th>\n",
              "      <td>3</td>\n",
              "      <td>17623</td>\n",
              "      <td>2</td>\n",
              "      <td>169</td>\n",
              "      <td>82.0</td>\n",
              "      <td>150</td>\n",
              "      <td>100</td>\n",
              "      <td>1</td>\n",
              "      <td>1</td>\n",
              "      <td>0</td>\n",
              "      <td>0</td>\n",
              "      <td>1</td>\n",
              "      <td>1</td>\n",
              "    </tr>\n",
              "    <tr>\n",
              "      <th>4</th>\n",
              "      <td>4</td>\n",
              "      <td>17474</td>\n",
              "      <td>1</td>\n",
              "      <td>156</td>\n",
              "      <td>56.0</td>\n",
              "      <td>100</td>\n",
              "      <td>60</td>\n",
              "      <td>1</td>\n",
              "      <td>1</td>\n",
              "      <td>0</td>\n",
              "      <td>0</td>\n",
              "      <td>0</td>\n",
              "      <td>0</td>\n",
              "    </tr>\n",
              "  </tbody>\n",
              "</table>\n",
              "</div>"
            ],
            "text/plain": [
              "   id    age  gender  height  weight  ap_hi  ap_lo  cholesterol  gluc  smoke  \\\n",
              "0   0  18393       2     168    62.0    110     80            1     1      0   \n",
              "1   1  20228       1     156    85.0    140     90            3     1      0   \n",
              "2   2  18857       1     165    64.0    130     70            3     1      0   \n",
              "3   3  17623       2     169    82.0    150    100            1     1      0   \n",
              "4   4  17474       1     156    56.0    100     60            1     1      0   \n",
              "\n",
              "   alco  active  cardio  \n",
              "0     0       1       0  \n",
              "1     0       1       1  \n",
              "2     0       0       1  \n",
              "3     0       1       1  \n",
              "4     0       0       0  "
            ]
          },
          "execution_count": 2,
          "metadata": {},
          "output_type": "execute_result"
        }
      ],
      "source": [
        "data = pd.read_csv(r'C:\\\\Users\\\\pavan kumar\\\\OneDrive\\\\Desktop\\\\Artificial Intelligence Intern\\\\cardiovascular1.csv')\n",
        "data.head()"
      ]
    },
    {
      "cell_type": "code",
      "execution_count": null,
      "id": "9a9b25ab",
      "metadata": {
        "id": "9a9b25ab",
        "outputId": "3b58aae2-8644-4a4b-b072-7aeb607502c0"
      },
      "outputs": [
        {
          "data": {
            "text/plain": [
              "pandas.core.frame.DataFrame"
            ]
          },
          "execution_count": 3,
          "metadata": {},
          "output_type": "execute_result"
        }
      ],
      "source": [
        "type(data)"
      ]
    },
    {
      "cell_type": "code",
      "execution_count": null,
      "id": "61926a4d",
      "metadata": {
        "id": "61926a4d",
        "outputId": "4a98036d-9a8e-45b7-b39d-e50837d070de"
      },
      "outputs": [
        {
          "name": "stdout",
          "output_type": "stream",
          "text": [
            "Dataset has 70000 rows and 13 columns\n"
          ]
        }
      ],
      "source": [
        "# shape of data set\n",
        "\n",
        "print(F\"Dataset has {data.shape[0]} rows and {data.shape[1]} columns\")"
      ]
    },
    {
      "cell_type": "code",
      "execution_count": null,
      "id": "2d5838df",
      "metadata": {
        "id": "2d5838df",
        "outputId": "c4f78267-eb79-452d-adf4-a6ef4d4bc55a"
      },
      "outputs": [
        {
          "name": "stdout",
          "output_type": "stream",
          "text": [
            "FIrst 5 rows of dataset\n"
          ]
        },
        {
          "data": {
            "text/html": [
              "<div>\n",
              "<style scoped>\n",
              "    .dataframe tbody tr th:only-of-type {\n",
              "        vertical-align: middle;\n",
              "    }\n",
              "\n",
              "    .dataframe tbody tr th {\n",
              "        vertical-align: top;\n",
              "    }\n",
              "\n",
              "    .dataframe thead th {\n",
              "        text-align: right;\n",
              "    }\n",
              "</style>\n",
              "<table border=\"1\" class=\"dataframe\">\n",
              "  <thead>\n",
              "    <tr style=\"text-align: right;\">\n",
              "      <th></th>\n",
              "      <th>id</th>\n",
              "      <th>age</th>\n",
              "      <th>gender</th>\n",
              "      <th>height</th>\n",
              "      <th>weight</th>\n",
              "      <th>ap_hi</th>\n",
              "      <th>ap_lo</th>\n",
              "      <th>cholesterol</th>\n",
              "      <th>gluc</th>\n",
              "      <th>smoke</th>\n",
              "      <th>alco</th>\n",
              "      <th>active</th>\n",
              "      <th>cardio</th>\n",
              "    </tr>\n",
              "  </thead>\n",
              "  <tbody>\n",
              "    <tr>\n",
              "      <th>0</th>\n",
              "      <td>0</td>\n",
              "      <td>18393</td>\n",
              "      <td>2</td>\n",
              "      <td>168</td>\n",
              "      <td>62.0</td>\n",
              "      <td>110</td>\n",
              "      <td>80</td>\n",
              "      <td>1</td>\n",
              "      <td>1</td>\n",
              "      <td>0</td>\n",
              "      <td>0</td>\n",
              "      <td>1</td>\n",
              "      <td>0</td>\n",
              "    </tr>\n",
              "    <tr>\n",
              "      <th>1</th>\n",
              "      <td>1</td>\n",
              "      <td>20228</td>\n",
              "      <td>1</td>\n",
              "      <td>156</td>\n",
              "      <td>85.0</td>\n",
              "      <td>140</td>\n",
              "      <td>90</td>\n",
              "      <td>3</td>\n",
              "      <td>1</td>\n",
              "      <td>0</td>\n",
              "      <td>0</td>\n",
              "      <td>1</td>\n",
              "      <td>1</td>\n",
              "    </tr>\n",
              "    <tr>\n",
              "      <th>2</th>\n",
              "      <td>2</td>\n",
              "      <td>18857</td>\n",
              "      <td>1</td>\n",
              "      <td>165</td>\n",
              "      <td>64.0</td>\n",
              "      <td>130</td>\n",
              "      <td>70</td>\n",
              "      <td>3</td>\n",
              "      <td>1</td>\n",
              "      <td>0</td>\n",
              "      <td>0</td>\n",
              "      <td>0</td>\n",
              "      <td>1</td>\n",
              "    </tr>\n",
              "    <tr>\n",
              "      <th>3</th>\n",
              "      <td>3</td>\n",
              "      <td>17623</td>\n",
              "      <td>2</td>\n",
              "      <td>169</td>\n",
              "      <td>82.0</td>\n",
              "      <td>150</td>\n",
              "      <td>100</td>\n",
              "      <td>1</td>\n",
              "      <td>1</td>\n",
              "      <td>0</td>\n",
              "      <td>0</td>\n",
              "      <td>1</td>\n",
              "      <td>1</td>\n",
              "    </tr>\n",
              "    <tr>\n",
              "      <th>4</th>\n",
              "      <td>4</td>\n",
              "      <td>17474</td>\n",
              "      <td>1</td>\n",
              "      <td>156</td>\n",
              "      <td>56.0</td>\n",
              "      <td>100</td>\n",
              "      <td>60</td>\n",
              "      <td>1</td>\n",
              "      <td>1</td>\n",
              "      <td>0</td>\n",
              "      <td>0</td>\n",
              "      <td>0</td>\n",
              "      <td>0</td>\n",
              "    </tr>\n",
              "  </tbody>\n",
              "</table>\n",
              "</div>"
            ],
            "text/plain": [
              "   id    age  gender  height  weight  ap_hi  ap_lo  cholesterol  gluc  smoke  \\\n",
              "0   0  18393       2     168    62.0    110     80            1     1      0   \n",
              "1   1  20228       1     156    85.0    140     90            3     1      0   \n",
              "2   2  18857       1     165    64.0    130     70            3     1      0   \n",
              "3   3  17623       2     169    82.0    150    100            1     1      0   \n",
              "4   4  17474       1     156    56.0    100     60            1     1      0   \n",
              "\n",
              "   alco  active  cardio  \n",
              "0     0       1       0  \n",
              "1     0       1       1  \n",
              "2     0       0       1  \n",
              "3     0       1       1  \n",
              "4     0       0       0  "
            ]
          },
          "execution_count": 5,
          "metadata": {},
          "output_type": "execute_result"
        }
      ],
      "source": [
        "print(\"FIrst 5 rows of dataset\")\n",
        "\n",
        "data.head()"
      ]
    },
    {
      "cell_type": "code",
      "execution_count": null,
      "id": "573947c1",
      "metadata": {
        "id": "573947c1",
        "outputId": "dfdad66c-9218-47a8-d936-fe30b79ddaba"
      },
      "outputs": [
        {
          "data": {
            "text/plain": [
              "['id',\n",
              " 'age',\n",
              " 'gender',\n",
              " 'height',\n",
              " 'weight',\n",
              " 'ap_hi',\n",
              " 'ap_lo',\n",
              " 'cholesterol',\n",
              " 'gluc',\n",
              " 'smoke',\n",
              " 'alco',\n",
              " 'active',\n",
              " 'cardio']"
            ]
          },
          "execution_count": 6,
          "metadata": {},
          "output_type": "execute_result"
        }
      ],
      "source": [
        "list(data)"
      ]
    },
    {
      "cell_type": "code",
      "execution_count": null,
      "id": "0b407d95",
      "metadata": {
        "id": "0b407d95",
        "outputId": "14a79ee2-17f8-4bd2-ee65-ca36556ef12f"
      },
      "outputs": [
        {
          "data": {
            "text/plain": [
              "<bound method DataFrame.info of           id    age  gender  height  weight  ap_hi  ap_lo  cholesterol  gluc  \\\n",
              "0          0  18393       2     168    62.0    110     80            1     1   \n",
              "1          1  20228       1     156    85.0    140     90            3     1   \n",
              "2          2  18857       1     165    64.0    130     70            3     1   \n",
              "3          3  17623       2     169    82.0    150    100            1     1   \n",
              "4          4  17474       1     156    56.0    100     60            1     1   \n",
              "...      ...    ...     ...     ...     ...    ...    ...          ...   ...   \n",
              "69995  99993  19240       2     168    76.0    120     80            1     1   \n",
              "69996  99995  22601       1     158   126.0    140     90            2     2   \n",
              "69997  99996  19066       2     183   105.0    180     90            3     1   \n",
              "69998  99998  22431       1     163    72.0    135     80            1     2   \n",
              "69999  99999  20540       1     170    72.0    120     80            2     1   \n",
              "\n",
              "       smoke  alco  active  cardio  \n",
              "0          0     0       1       0  \n",
              "1          0     0       1       1  \n",
              "2          0     0       0       1  \n",
              "3          0     0       1       1  \n",
              "4          0     0       0       0  \n",
              "...      ...   ...     ...     ...  \n",
              "69995      1     0       1       0  \n",
              "69996      0     0       1       1  \n",
              "69997      0     1       0       1  \n",
              "69998      0     0       0       1  \n",
              "69999      0     0       1       0  \n",
              "\n",
              "[70000 rows x 13 columns]>"
            ]
          },
          "execution_count": 7,
          "metadata": {},
          "output_type": "execute_result"
        }
      ],
      "source": [
        "data.info"
      ]
    },
    {
      "cell_type": "code",
      "execution_count": null,
      "id": "2a59b6cc",
      "metadata": {
        "id": "2a59b6cc",
        "outputId": "9118fdad-951f-4577-8aa6-aedd83395ff2"
      },
      "outputs": [
        {
          "data": {
            "text/plain": [
              "id             0\n",
              "age            0\n",
              "gender         0\n",
              "height         0\n",
              "weight         0\n",
              "ap_hi          0\n",
              "ap_lo          0\n",
              "cholesterol    0\n",
              "gluc           0\n",
              "smoke          0\n",
              "alco           0\n",
              "active         0\n",
              "cardio         0\n",
              "dtype: int64"
            ]
          },
          "execution_count": 8,
          "metadata": {},
          "output_type": "execute_result"
        }
      ],
      "source": [
        "data.isna().sum()"
      ]
    },
    {
      "cell_type": "code",
      "execution_count": null,
      "id": "85002eff",
      "metadata": {
        "id": "85002eff",
        "outputId": "0b601d05-6ab8-492e-a8f5-d5f665b87256"
      },
      "outputs": [
        {
          "data": {
            "text/plain": [
              "0"
            ]
          },
          "execution_count": 9,
          "metadata": {},
          "output_type": "execute_result"
        }
      ],
      "source": [
        "data.duplicated().sum()"
      ]
    },
    {
      "cell_type": "code",
      "execution_count": null,
      "id": "a0af48c9",
      "metadata": {
        "id": "a0af48c9"
      },
      "outputs": [],
      "source": [
        "data.drop(columns=\"id\",inplace=True)"
      ]
    },
    {
      "cell_type": "code",
      "execution_count": null,
      "id": "e6b464d2",
      "metadata": {
        "id": "e6b464d2",
        "outputId": "be67d3a3-1565-4567-acc0-61b580f17a62"
      },
      "outputs": [
        {
          "name": "stdout",
          "output_type": "stream",
          "text": [
            "Overall summary of numerical columns\n"
          ]
        },
        {
          "data": {
            "text/html": [
              "<div>\n",
              "<style scoped>\n",
              "    .dataframe tbody tr th:only-of-type {\n",
              "        vertical-align: middle;\n",
              "    }\n",
              "\n",
              "    .dataframe tbody tr th {\n",
              "        vertical-align: top;\n",
              "    }\n",
              "\n",
              "    .dataframe thead th {\n",
              "        text-align: right;\n",
              "    }\n",
              "</style>\n",
              "<table border=\"1\" class=\"dataframe\">\n",
              "  <thead>\n",
              "    <tr style=\"text-align: right;\">\n",
              "      <th></th>\n",
              "      <th>age</th>\n",
              "      <th>gender</th>\n",
              "      <th>height</th>\n",
              "      <th>weight</th>\n",
              "      <th>ap_hi</th>\n",
              "      <th>ap_lo</th>\n",
              "      <th>cholesterol</th>\n",
              "      <th>gluc</th>\n",
              "      <th>smoke</th>\n",
              "      <th>alco</th>\n",
              "      <th>active</th>\n",
              "      <th>cardio</th>\n",
              "    </tr>\n",
              "  </thead>\n",
              "  <tbody>\n",
              "    <tr>\n",
              "      <th>count</th>\n",
              "      <td>70000.000000</td>\n",
              "      <td>70000.000000</td>\n",
              "      <td>70000.000000</td>\n",
              "      <td>70000.000000</td>\n",
              "      <td>70000.000000</td>\n",
              "      <td>70000.000000</td>\n",
              "      <td>70000.000000</td>\n",
              "      <td>70000.000000</td>\n",
              "      <td>70000.000000</td>\n",
              "      <td>70000.000000</td>\n",
              "      <td>70000.000000</td>\n",
              "      <td>70000.000000</td>\n",
              "    </tr>\n",
              "    <tr>\n",
              "      <th>mean</th>\n",
              "      <td>19468.865814</td>\n",
              "      <td>1.349571</td>\n",
              "      <td>164.359229</td>\n",
              "      <td>74.205690</td>\n",
              "      <td>128.817286</td>\n",
              "      <td>96.630414</td>\n",
              "      <td>1.366871</td>\n",
              "      <td>1.226457</td>\n",
              "      <td>0.088129</td>\n",
              "      <td>0.053771</td>\n",
              "      <td>0.803729</td>\n",
              "      <td>0.499700</td>\n",
              "    </tr>\n",
              "    <tr>\n",
              "      <th>std</th>\n",
              "      <td>2467.251667</td>\n",
              "      <td>0.476838</td>\n",
              "      <td>8.210126</td>\n",
              "      <td>14.395757</td>\n",
              "      <td>154.011419</td>\n",
              "      <td>188.472530</td>\n",
              "      <td>0.680250</td>\n",
              "      <td>0.572270</td>\n",
              "      <td>0.283484</td>\n",
              "      <td>0.225568</td>\n",
              "      <td>0.397179</td>\n",
              "      <td>0.500003</td>\n",
              "    </tr>\n",
              "    <tr>\n",
              "      <th>min</th>\n",
              "      <td>10798.000000</td>\n",
              "      <td>1.000000</td>\n",
              "      <td>55.000000</td>\n",
              "      <td>10.000000</td>\n",
              "      <td>-150.000000</td>\n",
              "      <td>-70.000000</td>\n",
              "      <td>1.000000</td>\n",
              "      <td>1.000000</td>\n",
              "      <td>0.000000</td>\n",
              "      <td>0.000000</td>\n",
              "      <td>0.000000</td>\n",
              "      <td>0.000000</td>\n",
              "    </tr>\n",
              "    <tr>\n",
              "      <th>25%</th>\n",
              "      <td>17664.000000</td>\n",
              "      <td>1.000000</td>\n",
              "      <td>159.000000</td>\n",
              "      <td>65.000000</td>\n",
              "      <td>120.000000</td>\n",
              "      <td>80.000000</td>\n",
              "      <td>1.000000</td>\n",
              "      <td>1.000000</td>\n",
              "      <td>0.000000</td>\n",
              "      <td>0.000000</td>\n",
              "      <td>1.000000</td>\n",
              "      <td>0.000000</td>\n",
              "    </tr>\n",
              "    <tr>\n",
              "      <th>50%</th>\n",
              "      <td>19703.000000</td>\n",
              "      <td>1.000000</td>\n",
              "      <td>165.000000</td>\n",
              "      <td>72.000000</td>\n",
              "      <td>120.000000</td>\n",
              "      <td>80.000000</td>\n",
              "      <td>1.000000</td>\n",
              "      <td>1.000000</td>\n",
              "      <td>0.000000</td>\n",
              "      <td>0.000000</td>\n",
              "      <td>1.000000</td>\n",
              "      <td>0.000000</td>\n",
              "    </tr>\n",
              "    <tr>\n",
              "      <th>75%</th>\n",
              "      <td>21327.000000</td>\n",
              "      <td>2.000000</td>\n",
              "      <td>170.000000</td>\n",
              "      <td>82.000000</td>\n",
              "      <td>140.000000</td>\n",
              "      <td>90.000000</td>\n",
              "      <td>2.000000</td>\n",
              "      <td>1.000000</td>\n",
              "      <td>0.000000</td>\n",
              "      <td>0.000000</td>\n",
              "      <td>1.000000</td>\n",
              "      <td>1.000000</td>\n",
              "    </tr>\n",
              "    <tr>\n",
              "      <th>max</th>\n",
              "      <td>23713.000000</td>\n",
              "      <td>2.000000</td>\n",
              "      <td>250.000000</td>\n",
              "      <td>200.000000</td>\n",
              "      <td>16020.000000</td>\n",
              "      <td>11000.000000</td>\n",
              "      <td>3.000000</td>\n",
              "      <td>3.000000</td>\n",
              "      <td>1.000000</td>\n",
              "      <td>1.000000</td>\n",
              "      <td>1.000000</td>\n",
              "      <td>1.000000</td>\n",
              "    </tr>\n",
              "  </tbody>\n",
              "</table>\n",
              "</div>"
            ],
            "text/plain": [
              "                age        gender        height        weight         ap_hi  \\\n",
              "count  70000.000000  70000.000000  70000.000000  70000.000000  70000.000000   \n",
              "mean   19468.865814      1.349571    164.359229     74.205690    128.817286   \n",
              "std     2467.251667      0.476838      8.210126     14.395757    154.011419   \n",
              "min    10798.000000      1.000000     55.000000     10.000000   -150.000000   \n",
              "25%    17664.000000      1.000000    159.000000     65.000000    120.000000   \n",
              "50%    19703.000000      1.000000    165.000000     72.000000    120.000000   \n",
              "75%    21327.000000      2.000000    170.000000     82.000000    140.000000   \n",
              "max    23713.000000      2.000000    250.000000    200.000000  16020.000000   \n",
              "\n",
              "              ap_lo   cholesterol          gluc         smoke          alco  \\\n",
              "count  70000.000000  70000.000000  70000.000000  70000.000000  70000.000000   \n",
              "mean      96.630414      1.366871      1.226457      0.088129      0.053771   \n",
              "std      188.472530      0.680250      0.572270      0.283484      0.225568   \n",
              "min      -70.000000      1.000000      1.000000      0.000000      0.000000   \n",
              "25%       80.000000      1.000000      1.000000      0.000000      0.000000   \n",
              "50%       80.000000      1.000000      1.000000      0.000000      0.000000   \n",
              "75%       90.000000      2.000000      1.000000      0.000000      0.000000   \n",
              "max    11000.000000      3.000000      3.000000      1.000000      1.000000   \n",
              "\n",
              "             active        cardio  \n",
              "count  70000.000000  70000.000000  \n",
              "mean       0.803729      0.499700  \n",
              "std        0.397179      0.500003  \n",
              "min        0.000000      0.000000  \n",
              "25%        1.000000      0.000000  \n",
              "50%        1.000000      0.000000  \n",
              "75%        1.000000      1.000000  \n",
              "max        1.000000      1.000000  "
            ]
          },
          "execution_count": 11,
          "metadata": {},
          "output_type": "execute_result"
        }
      ],
      "source": [
        "print(\"Overall summary of numerical columns\")\n",
        "data.describe()"
      ]
    },
    {
      "cell_type": "code",
      "execution_count": null,
      "id": "efa9b770",
      "metadata": {
        "id": "efa9b770",
        "outputId": "154cee3e-a11d-43df-a4c6-e9d241472343"
      },
      "outputs": [
        {
          "data": {
            "text/plain": [
              "age            23417.0\n",
              "gender             2.0\n",
              "height           181.0\n",
              "weight           110.0\n",
              "ap_hi            170.0\n",
              "ap_lo            110.0\n",
              "cholesterol        3.0\n",
              "gluc               3.0\n",
              "smoke              1.0\n",
              "alco               1.0\n",
              "active             1.0\n",
              "cardio             1.0\n",
              "Name: 0.98, dtype: float64"
            ]
          },
          "execution_count": 12,
          "metadata": {},
          "output_type": "execute_result"
        }
      ],
      "source": [
        "data.quantile(1-0.02, axis = 0)\n",
        "\n",
        "#sum(data['ap_lo'] < 50)"
      ]
    },
    {
      "cell_type": "code",
      "execution_count": null,
      "id": "f26e89d0",
      "metadata": {
        "id": "f26e89d0",
        "outputId": "e00eb3e9-6094-4dfa-f0ff-96a5c294697a"
      },
      "outputs": [
        {
          "data": {
            "text/plain": [
              "cardio\n",
              "0    35021\n",
              "1    34979\n",
              "Name: count, dtype: int64"
            ]
          },
          "execution_count": 13,
          "metadata": {},
          "output_type": "execute_result"
        }
      ],
      "source": [
        "data['cardio'].value_counts()\n",
        "# 0 --> not affected by cardiovascular\n",
        "# 1 --> affected by cardiovascular"
      ]
    },
    {
      "cell_type": "code",
      "execution_count": null,
      "id": "cc67a3e3",
      "metadata": {
        "id": "cc67a3e3",
        "outputId": "d74333ff-accc-4fe3-df0a-0f8f7060fbc4"
      },
      "outputs": [
        {
          "name": "stdout",
          "output_type": "stream",
          "text": [
            "minimum weight = 10.0 kg \n",
            "minimum height = 55 cm\n"
          ]
        }
      ],
      "source": [
        "print(F\"minimum weight = {data['weight'].min()} kg \")\n",
        "print(F\"minimum height = {data['height'].min()} cm\")"
      ]
    },
    {
      "cell_type": "code",
      "execution_count": null,
      "id": "b7f344d5",
      "metadata": {
        "id": "b7f344d5",
        "outputId": "9e71bffc-47c5-4123-8c9f-65e15ab5bdb9"
      },
      "outputs": [
        {
          "name": "stdout",
          "output_type": "stream",
          "text": [
            "melted dataset\n"
          ]
        },
        {
          "data": {
            "text/html": [
              "<div>\n",
              "<style scoped>\n",
              "    .dataframe tbody tr th:only-of-type {\n",
              "        vertical-align: middle;\n",
              "    }\n",
              "\n",
              "    .dataframe tbody tr th {\n",
              "        vertical-align: top;\n",
              "    }\n",
              "\n",
              "    .dataframe thead th {\n",
              "        text-align: right;\n",
              "    }\n",
              "</style>\n",
              "<table border=\"1\" class=\"dataframe\">\n",
              "  <thead>\n",
              "    <tr style=\"text-align: right;\">\n",
              "      <th></th>\n",
              "      <th>age</th>\n",
              "      <th>gender</th>\n",
              "      <th>height</th>\n",
              "      <th>weight</th>\n",
              "      <th>ap_hi</th>\n",
              "      <th>ap_lo</th>\n",
              "      <th>cholesterol</th>\n",
              "      <th>gluc</th>\n",
              "      <th>smoke</th>\n",
              "      <th>alco</th>\n",
              "      <th>active</th>\n",
              "      <th>cardio</th>\n",
              "    </tr>\n",
              "  </thead>\n",
              "  <tbody>\n",
              "    <tr>\n",
              "      <th>0</th>\n",
              "      <td>-0.436058</td>\n",
              "      <td>2</td>\n",
              "      <td>0.443449</td>\n",
              "      <td>-0.847867</td>\n",
              "      <td>-0.122181</td>\n",
              "      <td>-0.088238</td>\n",
              "      <td>1</td>\n",
              "      <td>1</td>\n",
              "      <td>0</td>\n",
              "      <td>0</td>\n",
              "      <td>1</td>\n",
              "      <td>0</td>\n",
              "    </tr>\n",
              "    <tr>\n",
              "      <th>1</th>\n",
              "      <td>0.307684</td>\n",
              "      <td>1</td>\n",
              "      <td>-1.018161</td>\n",
              "      <td>0.749826</td>\n",
              "      <td>0.072610</td>\n",
              "      <td>-0.035180</td>\n",
              "      <td>3</td>\n",
              "      <td>1</td>\n",
              "      <td>0</td>\n",
              "      <td>0</td>\n",
              "      <td>1</td>\n",
              "      <td>1</td>\n",
              "    </tr>\n",
              "    <tr>\n",
              "      <th>2</th>\n",
              "      <td>-0.247995</td>\n",
              "      <td>1</td>\n",
              "      <td>0.078046</td>\n",
              "      <td>-0.708937</td>\n",
              "      <td>0.007679</td>\n",
              "      <td>-0.141296</td>\n",
              "      <td>3</td>\n",
              "      <td>1</td>\n",
              "      <td>0</td>\n",
              "      <td>0</td>\n",
              "      <td>0</td>\n",
              "      <td>1</td>\n",
              "    </tr>\n",
              "    <tr>\n",
              "      <th>3</th>\n",
              "      <td>-0.748147</td>\n",
              "      <td>2</td>\n",
              "      <td>0.565250</td>\n",
              "      <td>0.541431</td>\n",
              "      <td>0.137540</td>\n",
              "      <td>0.017878</td>\n",
              "      <td>1</td>\n",
              "      <td>1</td>\n",
              "      <td>0</td>\n",
              "      <td>0</td>\n",
              "      <td>1</td>\n",
              "      <td>1</td>\n",
              "    </tr>\n",
              "    <tr>\n",
              "      <th>4</th>\n",
              "      <td>-0.808538</td>\n",
              "      <td>1</td>\n",
              "      <td>-1.018161</td>\n",
              "      <td>-1.264657</td>\n",
              "      <td>-0.187111</td>\n",
              "      <td>-0.194354</td>\n",
              "      <td>1</td>\n",
              "      <td>1</td>\n",
              "      <td>0</td>\n",
              "      <td>0</td>\n",
              "      <td>0</td>\n",
              "      <td>0</td>\n",
              "    </tr>\n",
              "  </tbody>\n",
              "</table>\n",
              "</div>"
            ],
            "text/plain": [
              "        age  gender    height    weight     ap_hi     ap_lo  cholesterol  \\\n",
              "0 -0.436058       2  0.443449 -0.847867 -0.122181 -0.088238            1   \n",
              "1  0.307684       1 -1.018161  0.749826  0.072610 -0.035180            3   \n",
              "2 -0.247995       1  0.078046 -0.708937  0.007679 -0.141296            3   \n",
              "3 -0.748147       2  0.565250  0.541431  0.137540  0.017878            1   \n",
              "4 -0.808538       1 -1.018161 -1.264657 -0.187111 -0.194354            1   \n",
              "\n",
              "   gluc  smoke  alco  active  cardio  \n",
              "0     1      0     0       1       0  \n",
              "1     1      0     0       1       1  \n",
              "2     1      0     0       0       1  \n",
              "3     1      0     0       1       1  \n",
              "4     1      0     0       0       0  "
            ]
          },
          "execution_count": 15,
          "metadata": {},
          "output_type": "execute_result"
        }
      ],
      "source": [
        "x = data.copy(deep=True)\n",
        "\n",
        "\n",
        "s_list = [\"age\", \"height\", \"weight\", \"ap_hi\", \"ap_lo\"]\n",
        "\n",
        "def standartization(x):\n",
        "    x_std = x.copy(deep=True)\n",
        "    for column in s_list:\n",
        "        x_std[column] = (x_std[column]-x_std[column].mean())/x_std[column].std()\n",
        "    return x_std\n",
        "\n",
        "x_std=standartization(x)\n",
        "print(\"melted dataset\")\n",
        "x_std.head()"
      ]
    },
    {
      "cell_type": "code",
      "execution_count": null,
      "id": "e362cc13",
      "metadata": {
        "id": "e362cc13",
        "outputId": "b0fcda94-5848-411d-fe51-c9ac5fd833dc"
      },
      "outputs": [
        {
          "data": {
            "text/html": [
              "<div>\n",
              "<style scoped>\n",
              "    .dataframe tbody tr th:only-of-type {\n",
              "        vertical-align: middle;\n",
              "    }\n",
              "\n",
              "    .dataframe tbody tr th {\n",
              "        vertical-align: top;\n",
              "    }\n",
              "\n",
              "    .dataframe thead th {\n",
              "        text-align: right;\n",
              "    }\n",
              "</style>\n",
              "<table border=\"1\" class=\"dataframe\">\n",
              "  <thead>\n",
              "    <tr style=\"text-align: right;\">\n",
              "      <th></th>\n",
              "      <th>cardio</th>\n",
              "      <th>features</th>\n",
              "      <th>value</th>\n",
              "    </tr>\n",
              "  </thead>\n",
              "  <tbody>\n",
              "    <tr>\n",
              "      <th>0</th>\n",
              "      <td>0</td>\n",
              "      <td>age</td>\n",
              "      <td>-0.436058</td>\n",
              "    </tr>\n",
              "    <tr>\n",
              "      <th>1</th>\n",
              "      <td>1</td>\n",
              "      <td>age</td>\n",
              "      <td>0.307684</td>\n",
              "    </tr>\n",
              "    <tr>\n",
              "      <th>2</th>\n",
              "      <td>1</td>\n",
              "      <td>age</td>\n",
              "      <td>-0.247995</td>\n",
              "    </tr>\n",
              "    <tr>\n",
              "      <th>3</th>\n",
              "      <td>1</td>\n",
              "      <td>age</td>\n",
              "      <td>-0.748147</td>\n",
              "    </tr>\n",
              "    <tr>\n",
              "      <th>4</th>\n",
              "      <td>0</td>\n",
              "      <td>age</td>\n",
              "      <td>-0.808538</td>\n",
              "    </tr>\n",
              "    <tr>\n",
              "      <th>...</th>\n",
              "      <td>...</td>\n",
              "      <td>...</td>\n",
              "      <td>...</td>\n",
              "    </tr>\n",
              "    <tr>\n",
              "      <th>349995</th>\n",
              "      <td>0</td>\n",
              "      <td>ap_lo</td>\n",
              "      <td>-0.088238</td>\n",
              "    </tr>\n",
              "    <tr>\n",
              "      <th>349996</th>\n",
              "      <td>1</td>\n",
              "      <td>ap_lo</td>\n",
              "      <td>-0.035180</td>\n",
              "    </tr>\n",
              "    <tr>\n",
              "      <th>349997</th>\n",
              "      <td>1</td>\n",
              "      <td>ap_lo</td>\n",
              "      <td>-0.035180</td>\n",
              "    </tr>\n",
              "    <tr>\n",
              "      <th>349998</th>\n",
              "      <td>1</td>\n",
              "      <td>ap_lo</td>\n",
              "      <td>-0.088238</td>\n",
              "    </tr>\n",
              "    <tr>\n",
              "      <th>349999</th>\n",
              "      <td>0</td>\n",
              "      <td>ap_lo</td>\n",
              "      <td>-0.088238</td>\n",
              "    </tr>\n",
              "  </tbody>\n",
              "</table>\n",
              "<p>350000 rows × 3 columns</p>\n",
              "</div>"
            ],
            "text/plain": [
              "        cardio features     value\n",
              "0            0      age -0.436058\n",
              "1            1      age  0.307684\n",
              "2            1      age -0.247995\n",
              "3            1      age -0.748147\n",
              "4            0      age -0.808538\n",
              "...        ...      ...       ...\n",
              "349995       0    ap_lo -0.088238\n",
              "349996       1    ap_lo -0.035180\n",
              "349997       1    ap_lo -0.035180\n",
              "349998       1    ap_lo -0.088238\n",
              "349999       0    ap_lo -0.088238\n",
              "\n",
              "[350000 rows x 3 columns]"
            ]
          },
          "execution_count": 16,
          "metadata": {},
          "output_type": "execute_result"
        }
      ],
      "source": [
        "x_melted = pd.melt(frame=x_std, id_vars=\"cardio\", value_vars=s_list, var_name=\"features\", value_name=\"value\", col_level=None)\n",
        "x_melted\n"
      ]
    },
    {
      "cell_type": "code",
      "execution_count": null,
      "id": "57f14248",
      "metadata": {
        "id": "57f14248",
        "outputId": "e435ce68-f822-48b6-ad5a-a8943f1b8f05"
      },
      "outputs": [
        {
          "data": {
            "text/plain": [
              "([0, 1, 2, 3, 4],\n",
              " [Text(0, 0, 'age'),\n",
              "  Text(1, 0, 'height'),\n",
              "  Text(2, 0, 'weight'),\n",
              "  Text(3, 0, 'ap_hi'),\n",
              "  Text(4, 0, 'ap_lo')])"
            ]
          },
          "execution_count": 17,
          "metadata": {},
          "output_type": "execute_result"
        },
        {
          "data": {
            "image/png": "[encoded data removed]",
            "text/plain": [
              "<Figure size 1000x1000 with 1 Axes>"
            ]
          },
          "metadata": {},
          "output_type": "display_data"
        }
      ],
      "source": [
        "plt.figure(figsize=(10,10))\n",
        "sns.boxplot(x=\"features\", y=\"value\", hue=\"cardio\", data=x_melted)\n",
        "plt.xticks(rotation=90)"
      ]
    },
    {
      "cell_type": "code",
      "execution_count": null,
      "id": "73568e3b",
      "metadata": {
        "id": "73568e3b",
        "outputId": "299803c8-3df9-42be-e56a-215197066c04"
      },
      "outputs": [
        {
          "name": "stdout",
          "output_type": "stream",
          "text": [
            "(69965, 12)\n"
          ]
        }
      ],
      "source": [
        "data.drop(data[(data['height'] > 213) | (data['height'] < 100)].index,inplace=True)\n",
        "data.drop(data[(data['weight'] < 25)].index,inplace=True)\n",
        "\n",
        "print(data.shape)"
      ]
    },
    {
      "cell_type": "code",
      "execution_count": null,
      "id": "e4804813",
      "metadata": {
        "id": "e4804813",
        "outputId": "f6d5e207-3373-4c07-9a99-e63e0640feb6"
      },
      "outputs": [
        {
          "name": "stdout",
          "output_type": "stream",
          "text": [
            "Diastilic pressure is higher than systolic one in 1231 cases\n"
          ]
        }
      ],
      "source": [
        "print(\"Diastilic pressure is higher than systolic one in {0} cases\".format(data[data['ap_lo']> data['ap_hi']].shape[0]))"
      ]
    },
    {
      "cell_type": "code",
      "execution_count": null,
      "id": "b5abb4ad",
      "metadata": {
        "id": "b5abb4ad",
        "outputId": "7b4e809c-e020-4749-ac86-3f5e91c24819"
      },
      "outputs": [
        {
          "name": "stdout",
          "output_type": "stream",
          "text": [
            "(68661, 12)\n"
          ]
        }
      ],
      "source": [
        "data.drop(data[(data['ap_hi'] > 210) | (data['ap_hi'] < 80)].index,inplace=True)\n",
        "data.drop(data[(data['ap_lo'] > 150) | (data['ap_lo'] < 50)].index,inplace=True)\n",
        "\n",
        "print(data.shape)"
      ]
    },
    {
      "cell_type": "code",
      "execution_count": null,
      "id": "8e85d2e7",
      "metadata": {
        "id": "8e85d2e7"
      },
      "outputs": [],
      "source": [
        "data[\"male\"] = data[\"gender\"] == 2\n",
        "data[\"female\"] = data[\"gender\"] == 1\n",
        "\n",
        "data = data.astype({\"male\" : \"int8\", \"female\" : \"int8\"})"
      ]
    },
    {
      "cell_type": "code",
      "execution_count": null,
      "id": "9e7e54de",
      "metadata": {
        "id": "9e7e54de"
      },
      "outputs": [],
      "source": [
        "# Calculation of BMI\n",
        "\n",
        "data['bmi'] = data['weight'] / ((data['height']/100) ** 2)\n",
        "data1=data['height']\n",
        "data.drop(['weight', 'height'], axis=1, inplace= True)"
      ]
    },
    {
      "cell_type": "code",
      "execution_count": null,
      "id": "b56dfa53",
      "metadata": {
        "id": "b56dfa53"
      },
      "outputs": [],
      "source": [
        "data['bpc'] = 0\n",
        "\n",
        "data.loc[(data['ap_hi'] < 120) & (data['ap_lo'] < 80), 'bpc'] = 1\n",
        "\n",
        "data.loc[((data['ap_hi'] >= 120) & (data['ap_hi'] < 130)) &\n",
        "         ((data['ap_lo'] < 80)), 'bpc'] = 2\n",
        "\n",
        "data.loc[((data['ap_hi'] >= 130) & (data['ap_hi'] < 140)) |\n",
        "         ((data['ap_lo'] >= 80) & (data['ap_lo'] < 90)), 'bpc'] = 3\n",
        "\n",
        "data.loc[((data['ap_hi'] >= 140) & (data['ap_hi'] < 180)) |\n",
        "         ((data['ap_lo'] >= 90) & (data['ap_lo'] < 120)), 'bpc'] = 4\n",
        "\n",
        "data.loc[(data['ap_hi'] >= 180) | (data['ap_lo'] >= 120), 'bpc'] = 5\n",
        "\n",
        "cols_ap_ = ['ap_hi', 'ap_lo']\n",
        "data.drop(cols_ap_, axis= 1, inplace= True)"
      ]
    },
    {
      "cell_type": "code",
      "execution_count": null,
      "id": "ce3f49e2",
      "metadata": {
        "id": "ce3f49e2"
      },
      "outputs": [],
      "source": [
        "data.to_csv(\"cardio_preprocessed_data.csv\", index = False)"
      ]
    },
    {
      "cell_type": "code",
      "execution_count": null,
      "id": "c52a323e",
      "metadata": {
        "id": "c52a323e",
        "outputId": "3429ed4b-3164-452f-f2f2-88257c8e97f5"
      },
      "outputs": [
        {
          "data": {
            "text/html": [
              "<div>\n",
              "<style scoped>\n",
              "    .dataframe tbody tr th:only-of-type {\n",
              "        vertical-align: middle;\n",
              "    }\n",
              "\n",
              "    .dataframe tbody tr th {\n",
              "        vertical-align: top;\n",
              "    }\n",
              "\n",
              "    .dataframe thead th {\n",
              "        text-align: right;\n",
              "    }\n",
              "</style>\n",
              "<table border=\"1\" class=\"dataframe\">\n",
              "  <thead>\n",
              "    <tr style=\"text-align: right;\">\n",
              "      <th></th>\n",
              "      <th>age</th>\n",
              "      <th>gender</th>\n",
              "      <th>cholesterol</th>\n",
              "      <th>gluc</th>\n",
              "      <th>smoke</th>\n",
              "      <th>alco</th>\n",
              "      <th>active</th>\n",
              "      <th>cardio</th>\n",
              "      <th>male</th>\n",
              "      <th>female</th>\n",
              "      <th>bmi</th>\n",
              "      <th>bpc</th>\n",
              "    </tr>\n",
              "  </thead>\n",
              "  <tbody>\n",
              "    <tr>\n",
              "      <th>0</th>\n",
              "      <td>18393</td>\n",
              "      <td>2</td>\n",
              "      <td>1</td>\n",
              "      <td>1</td>\n",
              "      <td>0</td>\n",
              "      <td>0</td>\n",
              "      <td>1</td>\n",
              "      <td>0</td>\n",
              "      <td>1</td>\n",
              "      <td>0</td>\n",
              "      <td>21.967120</td>\n",
              "      <td>3</td>\n",
              "    </tr>\n",
              "    <tr>\n",
              "      <th>1</th>\n",
              "      <td>20228</td>\n",
              "      <td>1</td>\n",
              "      <td>3</td>\n",
              "      <td>1</td>\n",
              "      <td>0</td>\n",
              "      <td>0</td>\n",
              "      <td>1</td>\n",
              "      <td>1</td>\n",
              "      <td>0</td>\n",
              "      <td>1</td>\n",
              "      <td>34.927679</td>\n",
              "      <td>4</td>\n",
              "    </tr>\n",
              "    <tr>\n",
              "      <th>2</th>\n",
              "      <td>18857</td>\n",
              "      <td>1</td>\n",
              "      <td>3</td>\n",
              "      <td>1</td>\n",
              "      <td>0</td>\n",
              "      <td>0</td>\n",
              "      <td>0</td>\n",
              "      <td>1</td>\n",
              "      <td>0</td>\n",
              "      <td>1</td>\n",
              "      <td>23.507805</td>\n",
              "      <td>3</td>\n",
              "    </tr>\n",
              "    <tr>\n",
              "      <th>3</th>\n",
              "      <td>17623</td>\n",
              "      <td>2</td>\n",
              "      <td>1</td>\n",
              "      <td>1</td>\n",
              "      <td>0</td>\n",
              "      <td>0</td>\n",
              "      <td>1</td>\n",
              "      <td>1</td>\n",
              "      <td>1</td>\n",
              "      <td>0</td>\n",
              "      <td>28.710479</td>\n",
              "      <td>4</td>\n",
              "    </tr>\n",
              "    <tr>\n",
              "      <th>4</th>\n",
              "      <td>17474</td>\n",
              "      <td>1</td>\n",
              "      <td>1</td>\n",
              "      <td>1</td>\n",
              "      <td>0</td>\n",
              "      <td>0</td>\n",
              "      <td>0</td>\n",
              "      <td>0</td>\n",
              "      <td>0</td>\n",
              "      <td>1</td>\n",
              "      <td>23.011177</td>\n",
              "      <td>1</td>\n",
              "    </tr>\n",
              "    <tr>\n",
              "      <th>...</th>\n",
              "      <td>...</td>\n",
              "      <td>...</td>\n",
              "      <td>...</td>\n",
              "      <td>...</td>\n",
              "      <td>...</td>\n",
              "      <td>...</td>\n",
              "      <td>...</td>\n",
              "      <td>...</td>\n",
              "      <td>...</td>\n",
              "      <td>...</td>\n",
              "      <td>...</td>\n",
              "      <td>...</td>\n",
              "    </tr>\n",
              "    <tr>\n",
              "      <th>69995</th>\n",
              "      <td>19240</td>\n",
              "      <td>2</td>\n",
              "      <td>1</td>\n",
              "      <td>1</td>\n",
              "      <td>1</td>\n",
              "      <td>0</td>\n",
              "      <td>1</td>\n",
              "      <td>0</td>\n",
              "      <td>1</td>\n",
              "      <td>0</td>\n",
              "      <td>26.927438</td>\n",
              "      <td>3</td>\n",
              "    </tr>\n",
              "    <tr>\n",
              "      <th>69996</th>\n",
              "      <td>22601</td>\n",
              "      <td>1</td>\n",
              "      <td>2</td>\n",
              "      <td>2</td>\n",
              "      <td>0</td>\n",
              "      <td>0</td>\n",
              "      <td>1</td>\n",
              "      <td>1</td>\n",
              "      <td>0</td>\n",
              "      <td>1</td>\n",
              "      <td>50.472681</td>\n",
              "      <td>4</td>\n",
              "    </tr>\n",
              "    <tr>\n",
              "      <th>69997</th>\n",
              "      <td>19066</td>\n",
              "      <td>2</td>\n",
              "      <td>3</td>\n",
              "      <td>1</td>\n",
              "      <td>0</td>\n",
              "      <td>1</td>\n",
              "      <td>0</td>\n",
              "      <td>1</td>\n",
              "      <td>1</td>\n",
              "      <td>0</td>\n",
              "      <td>31.353579</td>\n",
              "      <td>5</td>\n",
              "    </tr>\n",
              "    <tr>\n",
              "      <th>69998</th>\n",
              "      <td>22431</td>\n",
              "      <td>1</td>\n",
              "      <td>1</td>\n",
              "      <td>2</td>\n",
              "      <td>0</td>\n",
              "      <td>0</td>\n",
              "      <td>0</td>\n",
              "      <td>1</td>\n",
              "      <td>0</td>\n",
              "      <td>1</td>\n",
              "      <td>27.099251</td>\n",
              "      <td>3</td>\n",
              "    </tr>\n",
              "    <tr>\n",
              "      <th>69999</th>\n",
              "      <td>20540</td>\n",
              "      <td>1</td>\n",
              "      <td>2</td>\n",
              "      <td>1</td>\n",
              "      <td>0</td>\n",
              "      <td>0</td>\n",
              "      <td>1</td>\n",
              "      <td>0</td>\n",
              "      <td>0</td>\n",
              "      <td>1</td>\n",
              "      <td>24.913495</td>\n",
              "      <td>3</td>\n",
              "    </tr>\n",
              "  </tbody>\n",
              "</table>\n",
              "<p>68661 rows × 12 columns</p>\n",
              "</div>"
            ],
            "text/plain": [
              "         age  gender  cholesterol  gluc  smoke  alco  active  cardio  male  \\\n",
              "0      18393       2            1     1      0     0       1       0     1   \n",
              "1      20228       1            3     1      0     0       1       1     0   \n",
              "2      18857       1            3     1      0     0       0       1     0   \n",
              "3      17623       2            1     1      0     0       1       1     1   \n",
              "4      17474       1            1     1      0     0       0       0     0   \n",
              "...      ...     ...          ...   ...    ...   ...     ...     ...   ...   \n",
              "69995  19240       2            1     1      1     0       1       0     1   \n",
              "69996  22601       1            2     2      0     0       1       1     0   \n",
              "69997  19066       2            3     1      0     1       0       1     1   \n",
              "69998  22431       1            1     2      0     0       0       1     0   \n",
              "69999  20540       1            2     1      0     0       1       0     0   \n",
              "\n",
              "       female        bmi  bpc  \n",
              "0           0  21.967120    3  \n",
              "1           1  34.927679    4  \n",
              "2           1  23.507805    3  \n",
              "3           0  28.710479    4  \n",
              "4           1  23.011177    1  \n",
              "...       ...        ...  ...  \n",
              "69995       0  26.927438    3  \n",
              "69996       1  50.472681    4  \n",
              "69997       0  31.353579    5  \n",
              "69998       1  27.099251    3  \n",
              "69999       1  24.913495    3  \n",
              "\n",
              "[68661 rows x 12 columns]"
            ]
          },
          "execution_count": 25,
          "metadata": {},
          "output_type": "execute_result"
        }
      ],
      "source": [
        "data"
      ]
    },
    {
      "cell_type": "code",
      "execution_count": null,
      "id": "07ee6244",
      "metadata": {
        "id": "07ee6244",
        "outputId": "f820d122-48f9-4868-aabf-c3de126dd210"
      },
      "outputs": [
        {
          "name": "stdout",
          "output_type": "stream",
          "text": [
            "Note: you may need to restart the kernel to use updated packages.\n"
          ]
        },
        {
          "name": "stderr",
          "output_type": "stream",
          "text": [
            "ERROR: unknown command \"!\"\n",
            "\n"
          ]
        }
      ],
      "source": [
        "pip! install seaborn"
      ]
    },
    {
      "cell_type": "markdown",
      "id": "2752129b",
      "metadata": {
        "id": "2752129b"
      },
      "source": [
        "# Analysis and Visulazations"
      ]
    },
    {
      "cell_type": "code",
      "execution_count": null,
      "id": "5a857d73",
      "metadata": {
        "id": "5a857d73"
      },
      "outputs": [],
      "source": [
        "import pandas as pd\n",
        "import numpy as np\n",
        "import matplotlib.pyplot as plt\n",
        "import seaborn as sns\n",
        "from sklearn.model_selection import train_test_split\n",
        "from sklearn.preprocessing import StandardScaler\n",
        "from sklearn.metrics import accuracy_score\n",
        "from sklearn.svm import SVC\n",
        "from sklearn.neighbors import KNeighborsClassifier\n",
        "from sklearn.tree import DecisionTreeClassifier\n",
        "from sklearn.linear_model import LogisticRegression\n",
        "from sklearn.ensemble import RandomForestClassifier"
      ]
    },
    {
      "cell_type": "code",
      "execution_count": null,
      "id": "905758fc",
      "metadata": {
        "id": "905758fc",
        "outputId": "0eeaa9a1-a1de-41fe-ddf5-25da738b2308"
      },
      "outputs": [
        {
          "name": "stdout",
          "output_type": "stream",
          "text": [
            "(68661, 12)\n"
          ]
        }
      ],
      "source": [
        "data = pd.read_csv(\"cardio_preprocessed_data.csv\")\n",
        "print(data.shape)"
      ]
    },
    {
      "cell_type": "code",
      "execution_count": null,
      "id": "4dcbf6c0",
      "metadata": {
        "id": "4dcbf6c0",
        "outputId": "beb64530-915d-4d2e-ab2c-cea579318bc2"
      },
      "outputs": [
        {
          "data": {
            "image/png": "[encoded data removed]",
            "text/plain": [
              "<Figure size 1100x800 with 1 Axes>"
            ]
          },
          "metadata": {},
          "output_type": "display_data"
        }
      ],
      "source": [
        "from matplotlib import rcParams\n",
        "rcParams['figure.figsize'] = 11, 8\n",
        "data['years'] = (data['age'] / 365).astype('int')\n",
        "sns.countplot(x='years', hue='cardio', data = data, palette=\"Set2\");"
      ]
    },
    {
      "cell_type": "code",
      "execution_count": null,
      "id": "4eab4104",
      "metadata": {
        "id": "4eab4104",
        "outputId": "07c65a4f-2c3f-4ba7-d19e-76171e3fb0c5"
      },
      "outputs": [
        {
          "name": "stdout",
          "output_type": "stream",
          "text": [
            "Summary of features available.\n"
          ]
        },
        {
          "data": {
            "text/html": [
              "<div>\n",
              "<style scoped>\n",
              "    .dataframe tbody tr th:only-of-type {\n",
              "        vertical-align: middle;\n",
              "    }\n",
              "\n",
              "    .dataframe tbody tr th {\n",
              "        vertical-align: top;\n",
              "    }\n",
              "\n",
              "    .dataframe thead th {\n",
              "        text-align: right;\n",
              "    }\n",
              "</style>\n",
              "<table border=\"1\" class=\"dataframe\">\n",
              "  <thead>\n",
              "    <tr style=\"text-align: right;\">\n",
              "      <th></th>\n",
              "      <th>count</th>\n",
              "      <th>mean</th>\n",
              "      <th>std</th>\n",
              "      <th>min</th>\n",
              "      <th>25%</th>\n",
              "      <th>50%</th>\n",
              "      <th>75%</th>\n",
              "      <th>max</th>\n",
              "    </tr>\n",
              "  </thead>\n",
              "  <tbody>\n",
              "    <tr>\n",
              "      <th>age</th>\n",
              "      <td>68661.0</td>\n",
              "      <td>19464.23</td>\n",
              "      <td>2467.95</td>\n",
              "      <td>10798.00</td>\n",
              "      <td>17658.00</td>\n",
              "      <td>19701.00</td>\n",
              "      <td>21323.00</td>\n",
              "      <td>23713.00</td>\n",
              "    </tr>\n",
              "    <tr>\n",
              "      <th>gender</th>\n",
              "      <td>68661.0</td>\n",
              "      <td>1.35</td>\n",
              "      <td>0.48</td>\n",
              "      <td>1.00</td>\n",
              "      <td>1.00</td>\n",
              "      <td>1.00</td>\n",
              "      <td>2.00</td>\n",
              "      <td>2.00</td>\n",
              "    </tr>\n",
              "    <tr>\n",
              "      <th>cholesterol</th>\n",
              "      <td>68661.0</td>\n",
              "      <td>1.36</td>\n",
              "      <td>0.68</td>\n",
              "      <td>1.00</td>\n",
              "      <td>1.00</td>\n",
              "      <td>1.00</td>\n",
              "      <td>1.00</td>\n",
              "      <td>3.00</td>\n",
              "    </tr>\n",
              "    <tr>\n",
              "      <th>gluc</th>\n",
              "      <td>68661.0</td>\n",
              "      <td>1.23</td>\n",
              "      <td>0.57</td>\n",
              "      <td>1.00</td>\n",
              "      <td>1.00</td>\n",
              "      <td>1.00</td>\n",
              "      <td>1.00</td>\n",
              "      <td>3.00</td>\n",
              "    </tr>\n",
              "    <tr>\n",
              "      <th>smoke</th>\n",
              "      <td>68661.0</td>\n",
              "      <td>0.09</td>\n",
              "      <td>0.28</td>\n",
              "      <td>0.00</td>\n",
              "      <td>0.00</td>\n",
              "      <td>0.00</td>\n",
              "      <td>0.00</td>\n",
              "      <td>1.00</td>\n",
              "    </tr>\n",
              "    <tr>\n",
              "      <th>alco</th>\n",
              "      <td>68661.0</td>\n",
              "      <td>0.05</td>\n",
              "      <td>0.23</td>\n",
              "      <td>0.00</td>\n",
              "      <td>0.00</td>\n",
              "      <td>0.00</td>\n",
              "      <td>0.00</td>\n",
              "      <td>1.00</td>\n",
              "    </tr>\n",
              "    <tr>\n",
              "      <th>active</th>\n",
              "      <td>68661.0</td>\n",
              "      <td>0.80</td>\n",
              "      <td>0.40</td>\n",
              "      <td>0.00</td>\n",
              "      <td>1.00</td>\n",
              "      <td>1.00</td>\n",
              "      <td>1.00</td>\n",
              "      <td>1.00</td>\n",
              "    </tr>\n",
              "    <tr>\n",
              "      <th>cardio</th>\n",
              "      <td>68661.0</td>\n",
              "      <td>0.49</td>\n",
              "      <td>0.50</td>\n",
              "      <td>0.00</td>\n",
              "      <td>0.00</td>\n",
              "      <td>0.00</td>\n",
              "      <td>1.00</td>\n",
              "      <td>1.00</td>\n",
              "    </tr>\n",
              "    <tr>\n",
              "      <th>male</th>\n",
              "      <td>68661.0</td>\n",
              "      <td>0.35</td>\n",
              "      <td>0.48</td>\n",
              "      <td>0.00</td>\n",
              "      <td>0.00</td>\n",
              "      <td>0.00</td>\n",
              "      <td>1.00</td>\n",
              "      <td>1.00</td>\n",
              "    </tr>\n",
              "    <tr>\n",
              "      <th>female</th>\n",
              "      <td>68661.0</td>\n",
              "      <td>0.65</td>\n",
              "      <td>0.48</td>\n",
              "      <td>0.00</td>\n",
              "      <td>0.00</td>\n",
              "      <td>1.00</td>\n",
              "      <td>1.00</td>\n",
              "      <td>1.00</td>\n",
              "    </tr>\n",
              "    <tr>\n",
              "      <th>bmi</th>\n",
              "      <td>68661.0</td>\n",
              "      <td>27.47</td>\n",
              "      <td>5.35</td>\n",
              "      <td>9.92</td>\n",
              "      <td>23.88</td>\n",
              "      <td>26.35</td>\n",
              "      <td>30.12</td>\n",
              "      <td>152.55</td>\n",
              "    </tr>\n",
              "    <tr>\n",
              "      <th>bpc</th>\n",
              "      <td>68661.0</td>\n",
              "      <td>3.03</td>\n",
              "      <td>0.99</td>\n",
              "      <td>1.00</td>\n",
              "      <td>3.00</td>\n",
              "      <td>3.00</td>\n",
              "      <td>4.00</td>\n",
              "      <td>5.00</td>\n",
              "    </tr>\n",
              "    <tr>\n",
              "      <th>years</th>\n",
              "      <td>68661.0</td>\n",
              "      <td>52.83</td>\n",
              "      <td>6.77</td>\n",
              "      <td>29.00</td>\n",
              "      <td>48.00</td>\n",
              "      <td>53.00</td>\n",
              "      <td>58.00</td>\n",
              "      <td>64.00</td>\n",
              "    </tr>\n",
              "  </tbody>\n",
              "</table>\n",
              "</div>"
            ],
            "text/plain": [
              "               count      mean      std       min       25%       50%  \\\n",
              "age          68661.0  19464.23  2467.95  10798.00  17658.00  19701.00   \n",
              "gender       68661.0      1.35     0.48      1.00      1.00      1.00   \n",
              "cholesterol  68661.0      1.36     0.68      1.00      1.00      1.00   \n",
              "gluc         68661.0      1.23     0.57      1.00      1.00      1.00   \n",
              "smoke        68661.0      0.09     0.28      0.00      0.00      0.00   \n",
              "alco         68661.0      0.05     0.23      0.00      0.00      0.00   \n",
              "active       68661.0      0.80     0.40      0.00      1.00      1.00   \n",
              "cardio       68661.0      0.49     0.50      0.00      0.00      0.00   \n",
              "male         68661.0      0.35     0.48      0.00      0.00      0.00   \n",
              "female       68661.0      0.65     0.48      0.00      0.00      1.00   \n",
              "bmi          68661.0     27.47     5.35      9.92     23.88     26.35   \n",
              "bpc          68661.0      3.03     0.99      1.00      3.00      3.00   \n",
              "years        68661.0     52.83     6.77     29.00     48.00     53.00   \n",
              "\n",
              "                  75%       max  \n",
              "age          21323.00  23713.00  \n",
              "gender           2.00      2.00  \n",
              "cholesterol      1.00      3.00  \n",
              "gluc             1.00      3.00  \n",
              "smoke            0.00      1.00  \n",
              "alco             0.00      1.00  \n",
              "active           1.00      1.00  \n",
              "cardio           1.00      1.00  \n",
              "male             1.00      1.00  \n",
              "female           1.00      1.00  \n",
              "bmi             30.12    152.55  \n",
              "bpc              4.00      5.00  \n",
              "years           58.00     64.00  "
            ]
          },
          "execution_count": 31,
          "metadata": {},
          "output_type": "execute_result"
        }
      ],
      "source": [
        "print('Summary of features available.')\n",
        "data.describe().T.round(2)"
      ]
    },
    {
      "cell_type": "code",
      "execution_count": null,
      "id": "2f7cd2d4",
      "metadata": {
        "id": "2f7cd2d4",
        "outputId": "080bc93e-09a9-4b2a-b13a-1477ef4f05d6"
      },
      "outputs": [
        {
          "data": {
            "text/html": [
              "<div>\n",
              "<style scoped>\n",
              "    .dataframe tbody tr th:only-of-type {\n",
              "        vertical-align: middle;\n",
              "    }\n",
              "\n",
              "    .dataframe tbody tr th {\n",
              "        vertical-align: top;\n",
              "    }\n",
              "\n",
              "    .dataframe thead th {\n",
              "        text-align: right;\n",
              "    }\n",
              "</style>\n",
              "<table border=\"1\" class=\"dataframe\">\n",
              "  <thead>\n",
              "    <tr style=\"text-align: right;\">\n",
              "      <th>cholesterol</th>\n",
              "      <th>1</th>\n",
              "      <th>2</th>\n",
              "      <th>3</th>\n",
              "    </tr>\n",
              "    <tr>\n",
              "      <th>cardio</th>\n",
              "      <th></th>\n",
              "      <th></th>\n",
              "      <th></th>\n",
              "    </tr>\n",
              "  </thead>\n",
              "  <tbody>\n",
              "    <tr>\n",
              "      <th>0</th>\n",
              "      <td>29069</td>\n",
              "      <td>3755</td>\n",
              "      <td>1866</td>\n",
              "    </tr>\n",
              "    <tr>\n",
              "      <th>1</th>\n",
              "      <td>22431</td>\n",
              "      <td>5539</td>\n",
              "      <td>6001</td>\n",
              "    </tr>\n",
              "  </tbody>\n",
              "</table>\n",
              "</div>"
            ],
            "text/plain": [
              "cholesterol      1     2     3\n",
              "cardio                        \n",
              "0            29069  3755  1866\n",
              "1            22431  5539  6001"
            ]
          },
          "execution_count": 32,
          "metadata": {},
          "output_type": "execute_result"
        }
      ],
      "source": [
        "pd.crosstab(data['cardio'],data['cholesterol'])"
      ]
    },
    {
      "cell_type": "code",
      "execution_count": null,
      "id": "26a5e72f",
      "metadata": {
        "id": "26a5e72f"
      },
      "outputs": [],
      "source": [
        "data.drop(\"gender\", axis = 1, inplace=True)"
      ]
    },
    {
      "cell_type": "code",
      "execution_count": null,
      "id": "b0241e52",
      "metadata": {
        "id": "b0241e52",
        "outputId": "359b7855-1665-4fa8-a340-d33a40bb9ca1"
      },
      "outputs": [
        {
          "data": {
            "image/png": "[encoded data removed]",
            "text/plain": [
              "<Figure size 1500x1000 with 2 Axes>"
            ]
          },
          "metadata": {},
          "output_type": "display_data"
        }
      ],
      "source": [
        "fig, ax = plt.subplots(figsize = (15, 10))\n",
        "sns.heatmap(data.corr(), annot= True,\n",
        "            cmap= 'viridis')\n",
        "plt.show()"
      ]
    },
    {
      "cell_type": "code",
      "execution_count": null,
      "id": "8ca09248",
      "metadata": {
        "id": "8ca09248"
      },
      "outputs": [],
      "source": [
        "# Let us first have a look at our target variable.\n",
        "fig, ax = plt.subplots(1,1)\n",
        "sns.countplot(data['cardio'], ax = ax)\n",
        "for i in ax.patches:\n",
        "    height = i.get_height()\n",
        "    ax.text(i.get_x()+i.get_width()/2,height,'{:.2f}'.format((i.get_height()/len(data['cardio']))*100,'%'))\n",
        "plt.show()"
      ]
    },
    {
      "cell_type": "code",
      "execution_count": null,
      "id": "df7454ae",
      "metadata": {
        "id": "df7454ae"
      },
      "outputs": [],
      "source": [
        "# Age is given in days. Transforming it into years for better understanding and checking relation with the target variable.\n",
        "data['age'] = data['age']/365"
      ]
    },
    {
      "cell_type": "code",
      "execution_count": null,
      "id": "2b7dc51d",
      "metadata": {
        "id": "2b7dc51d",
        "outputId": "6c6cf812-da0b-4d82-e539-c866716362d1"
      },
      "outputs": [
        {
          "name": "stderr",
          "output_type": "stream",
          "text": [
            "No artists with labels found to put in legend.  Note that artists whose label start with an underscore are ignored when legend() is called with no argument.\n"
          ]
        },
        {
          "ename": "KeyError",
          "evalue": "'gender'",
          "output_type": "error",
          "traceback": [
            "\u001b[1;31m---------------------------------------------------------------------------\u001b[0m",
            "\u001b[1;31mKeyError\u001b[0m                                  Traceback (most recent call last)",
            "File \u001b[1;32m~\\anaconda3\\Lib\\site-packages\\pandas\\core\\indexes\\base.py:3653\u001b[0m, in \u001b[0;36mIndex.get_loc\u001b[1;34m(self, key)\u001b[0m\n\u001b[0;32m   3652\u001b[0m \u001b[38;5;28;01mtry\u001b[39;00m:\n\u001b[1;32m-> 3653\u001b[0m     \u001b[38;5;28;01mreturn\u001b[39;00m \u001b[38;5;28mself\u001b[39m\u001b[38;5;241m.\u001b[39m_engine\u001b[38;5;241m.\u001b[39mget_loc(casted_key)\n\u001b[0;32m   3654\u001b[0m \u001b[38;5;28;01mexcept\u001b[39;00m \u001b[38;5;167;01mKeyError\u001b[39;00m \u001b[38;5;28;01mas\u001b[39;00m err:\n",
            "File \u001b[1;32m~\\anaconda3\\Lib\\site-packages\\pandas\\_libs\\index.pyx:147\u001b[0m, in \u001b[0;36mpandas._libs.index.IndexEngine.get_loc\u001b[1;34m()\u001b[0m\n",
            "File \u001b[1;32m~\\anaconda3\\Lib\\site-packages\\pandas\\_libs\\index.pyx:176\u001b[0m, in \u001b[0;36mpandas._libs.index.IndexEngine.get_loc\u001b[1;34m()\u001b[0m\n",
            "File \u001b[1;32mpandas\\_libs\\hashtable_class_helper.pxi:7080\u001b[0m, in \u001b[0;36mpandas._libs.hashtable.PyObjectHashTable.get_item\u001b[1;34m()\u001b[0m\n",
            "File \u001b[1;32mpandas\\_libs\\hashtable_class_helper.pxi:7088\u001b[0m, in \u001b[0;36mpandas._libs.hashtable.PyObjectHashTable.get_item\u001b[1;34m()\u001b[0m\n",
            "\u001b[1;31mKeyError\u001b[0m: 'gender'",
            "\nThe above exception was the direct cause of the following exception:\n",
            "\u001b[1;31mKeyError\u001b[0m                                  Traceback (most recent call last)",
            "Cell \u001b[1;32mIn[37], line 7\u001b[0m\n\u001b[0;32m      4\u001b[0m ax1\u001b[38;5;241m.\u001b[39mset_title(\u001b[38;5;124m'\u001b[39m\u001b[38;5;124mAge Distribution\u001b[39m\u001b[38;5;124m'\u001b[39m)\n\u001b[0;32m      5\u001b[0m ax1\u001b[38;5;241m.\u001b[39mlegend()\n\u001b[1;32m----> 7\u001b[0m sns\u001b[38;5;241m.\u001b[39mdistplot(data[\u001b[38;5;124m'\u001b[39m\u001b[38;5;124mage\u001b[39m\u001b[38;5;124m'\u001b[39m][(data[\u001b[38;5;124m'\u001b[39m\u001b[38;5;124mgender\u001b[39m\u001b[38;5;124m'\u001b[39m]\u001b[38;5;241m==\u001b[39m\u001b[38;5;241m1\u001b[39m) \u001b[38;5;241m&\u001b[39m (data[\u001b[38;5;124m'\u001b[39m\u001b[38;5;124mcardio\u001b[39m\u001b[38;5;124m'\u001b[39m]\u001b[38;5;241m==\u001b[39m\u001b[38;5;241m1\u001b[39m)],ax \u001b[38;5;241m=\u001b[39m ax2,color\u001b[38;5;241m=\u001b[39m\u001b[38;5;124m'\u001b[39m\u001b[38;5;124mpink\u001b[39m\u001b[38;5;124m'\u001b[39m)\n\u001b[0;32m      8\u001b[0m sns\u001b[38;5;241m.\u001b[39mdistplot(data[\u001b[38;5;124m'\u001b[39m\u001b[38;5;124mage\u001b[39m\u001b[38;5;124m'\u001b[39m][(data[\u001b[38;5;124m'\u001b[39m\u001b[38;5;124mgender\u001b[39m\u001b[38;5;124m'\u001b[39m]\u001b[38;5;241m==\u001b[39m\u001b[38;5;241m2\u001b[39m) \u001b[38;5;241m&\u001b[39m (data[\u001b[38;5;124m'\u001b[39m\u001b[38;5;124mcardio\u001b[39m\u001b[38;5;124m'\u001b[39m]\u001b[38;5;241m==\u001b[39m\u001b[38;5;241m1\u001b[39m)],ax \u001b[38;5;241m=\u001b[39m ax2,color\u001b[38;5;241m=\u001b[39m\u001b[38;5;124m'\u001b[39m\u001b[38;5;124mblue\u001b[39m\u001b[38;5;124m'\u001b[39m)\n\u001b[0;32m      9\u001b[0m ax2\u001b[38;5;241m.\u001b[39mset_title(\u001b[38;5;124m'\u001b[39m\u001b[38;5;124mDisease count distribution by  gender, aged below 54.\u001b[39m\u001b[38;5;124m'\u001b[39m)\n",
            "File \u001b[1;32m~\\anaconda3\\Lib\\site-packages\\pandas\\core\\frame.py:3761\u001b[0m, in \u001b[0;36mDataFrame.__getitem__\u001b[1;34m(self, key)\u001b[0m\n\u001b[0;32m   3759\u001b[0m \u001b[38;5;28;01mif\u001b[39;00m \u001b[38;5;28mself\u001b[39m\u001b[38;5;241m.\u001b[39mcolumns\u001b[38;5;241m.\u001b[39mnlevels \u001b[38;5;241m>\u001b[39m \u001b[38;5;241m1\u001b[39m:\n\u001b[0;32m   3760\u001b[0m     \u001b[38;5;28;01mreturn\u001b[39;00m \u001b[38;5;28mself\u001b[39m\u001b[38;5;241m.\u001b[39m_getitem_multilevel(key)\n\u001b[1;32m-> 3761\u001b[0m indexer \u001b[38;5;241m=\u001b[39m \u001b[38;5;28mself\u001b[39m\u001b[38;5;241m.\u001b[39mcolumns\u001b[38;5;241m.\u001b[39mget_loc(key)\n\u001b[0;32m   3762\u001b[0m \u001b[38;5;28;01mif\u001b[39;00m is_integer(indexer):\n\u001b[0;32m   3763\u001b[0m     indexer \u001b[38;5;241m=\u001b[39m [indexer]\n",
            "File \u001b[1;32m~\\anaconda3\\Lib\\site-packages\\pandas\\core\\indexes\\base.py:3655\u001b[0m, in \u001b[0;36mIndex.get_loc\u001b[1;34m(self, key)\u001b[0m\n\u001b[0;32m   3653\u001b[0m     \u001b[38;5;28;01mreturn\u001b[39;00m \u001b[38;5;28mself\u001b[39m\u001b[38;5;241m.\u001b[39m_engine\u001b[38;5;241m.\u001b[39mget_loc(casted_key)\n\u001b[0;32m   3654\u001b[0m \u001b[38;5;28;01mexcept\u001b[39;00m \u001b[38;5;167;01mKeyError\u001b[39;00m \u001b[38;5;28;01mas\u001b[39;00m err:\n\u001b[1;32m-> 3655\u001b[0m     \u001b[38;5;28;01mraise\u001b[39;00m \u001b[38;5;167;01mKeyError\u001b[39;00m(key) \u001b[38;5;28;01mfrom\u001b[39;00m \u001b[38;5;21;01merr\u001b[39;00m\n\u001b[0;32m   3656\u001b[0m \u001b[38;5;28;01mexcept\u001b[39;00m \u001b[38;5;167;01mTypeError\u001b[39;00m:\n\u001b[0;32m   3657\u001b[0m     \u001b[38;5;66;03m# If we have a listlike key, _check_indexing_error will raise\u001b[39;00m\n\u001b[0;32m   3658\u001b[0m     \u001b[38;5;66;03m#  InvalidIndexError. Otherwise we fall through and re-raise\u001b[39;00m\n\u001b[0;32m   3659\u001b[0m     \u001b[38;5;66;03m#  the TypeError.\u001b[39;00m\n\u001b[0;32m   3660\u001b[0m     \u001b[38;5;28mself\u001b[39m\u001b[38;5;241m.\u001b[39m_check_indexing_error(key)\n",
            "\u001b[1;31mKeyError\u001b[0m: 'gender'"
          ]
        },
        {
          "data": {
            "image/png": "[encoded data removed]",
            "text/plain": [
              "<Figure size 2000x1000 with 2 Axes>"
            ]
          },
          "metadata": {},
          "output_type": "display_data"
        }
      ],
      "source": [
        "fig, (ax1,ax2) = plt.subplots(1,2, figsize=(20,10))\n",
        "sns.distplot(data['age'][data['cardio']==0], ax = ax1, color='green')\n",
        "sns.distplot(data['age'][data['cardio']==1], ax = ax1,color='coral')\n",
        "ax1.set_title('Age Distribution')\n",
        "ax1.legend()\n",
        "\n",
        "sns.distplot(data['age'][(data['gender']==1) & (data['cardio']==1)],ax = ax2,color='pink')\n",
        "sns.distplot(data['age'][(data['gender']==2) & (data['cardio']==1)],ax = ax2,color='blue')\n",
        "ax2.set_title('Disease count distribution by  gender, aged below 54.')\n",
        "plt.show()"
      ]
    },
    {
      "cell_type": "code",
      "execution_count": null,
      "id": "150c545e",
      "metadata": {
        "id": "150c545e"
      },
      "outputs": [],
      "source": [
        "#fig, (ax1) = plt.subplots(1,1, figsize=(10,10))\n",
        "#sns.boxenplot(data['cardio'],(data1['height']*0.0328084),ax=ax1)\n",
        "#ax1.set_title('Height / Diseased')\n",
        "#plt.show()"
      ]
    },
    {
      "cell_type": "code",
      "execution_count": null,
      "id": "4d180475",
      "metadata": {
        "id": "4d180475"
      },
      "outputs": [],
      "source": [
        "sns.pairplot(data[['age','ap_hi','ap_lo','cholesterol','gluc','smoke','alco','active','cardio']])\n",
        "plt.show()\n"
      ]
    },
    {
      "cell_type": "markdown",
      "id": "c030b0ea",
      "metadata": {
        "id": "c030b0ea"
      },
      "source": [
        "# Correlation"
      ]
    },
    {
      "cell_type": "code",
      "execution_count": null,
      "id": "47db16aa",
      "metadata": {
        "id": "47db16aa"
      },
      "outputs": [],
      "source": [
        "data.corr()"
      ]
    },
    {
      "cell_type": "code",
      "execution_count": null,
      "id": "dd34dd8a",
      "metadata": {
        "id": "dd34dd8a"
      },
      "outputs": [],
      "source": [
        "correlation_matrix = data.corr()\n",
        "sns.heatmap(correlation_matrix, annot=True, cmap='coolwarm', fmt=\".2f\")\n",
        "plt.show()\n"
      ]
    },
    {
      "cell_type": "markdown",
      "id": "d2af7f96",
      "metadata": {
        "id": "d2af7f96"
      },
      "source": [
        "# Decision Tree"
      ]
    },
    {
      "cell_type": "code",
      "execution_count": null,
      "id": "f6647d50",
      "metadata": {
        "id": "f6647d50"
      },
      "outputs": [],
      "source": [
        "from sklearn.preprocessing import StandardScaler\n",
        "from sklearn.model_selection import train_test_split\n",
        "from sklearn.metrics import mean_squared_error\n",
        "from math import sqrt\n",
        "import itertools\n",
        "from sklearn.metrics import r2_score\n",
        "from sklearn.metrics import classification_report,confusion_matrix\n",
        "from training_and_testing_data import X_trainset, X_testset, Y_trainset, Y_testset\n",
        "from sklearn.tree import DecisionTreeClassifier"
      ]
    },
    {
      "cell_type": "code",
      "execution_count": null,
      "id": "76aaacfa",
      "metadata": {
        "id": "76aaacfa"
      },
      "outputs": [],
      "source": [
        "!pip install training_and_testing_data\n"
      ]
    },
    {
      "cell_type": "code",
      "execution_count": null,
      "id": "6a58c000",
      "metadata": {
        "id": "6a58c000"
      },
      "outputs": [],
      "source": [
        "from sklearn.datasets import load_iris\n",
        "\n",
        "# Load the Iris dataset as an example\n",
        "iris = load_iris()\n",
        "X = iris.data  # Features\n",
        "y = iris.target  # Target variable\n"
      ]
    },
    {
      "cell_type": "code",
      "execution_count": null,
      "id": "ca276a1f",
      "metadata": {
        "id": "ca276a1f"
      },
      "outputs": [],
      "source": [
        "testtree = DecisionTreeClassifier(criterion=\"entropy\", max_depth = None)"
      ]
    },
    {
      "cell_type": "code",
      "execution_count": null,
      "id": "7918a7ae",
      "metadata": {
        "id": "7918a7ae"
      },
      "outputs": [],
      "source": [
        "testtree.fit(X_trainset,Y_trainset)"
      ]
    },
    {
      "cell_type": "code",
      "execution_count": null,
      "id": "b648d6b1",
      "metadata": {
        "id": "b648d6b1"
      },
      "outputs": [],
      "source": [
        "predTree = testtree.predict(X_testset)"
      ]
    },
    {
      "cell_type": "code",
      "execution_count": null,
      "id": "57a572aa",
      "metadata": {
        "id": "57a572aa"
      },
      "outputs": [],
      "source": [
        "cnf_matrix = confusion_matrix(Y_testset,predTree)\n",
        "\n",
        "print(confusion_matrix(Y_testset,predTree))\n",
        "print(classification_report(Y_testset,predTree))"
      ]
    },
    {
      "cell_type": "code",
      "execution_count": null,
      "id": "e7cd8dab",
      "metadata": {
        "id": "e7cd8dab"
      },
      "outputs": [],
      "source": [
        "import numpy as np\n",
        "import matplotlib.pyplot as plt\n",
        "from sklearn.metrics import confusion_matrix\n",
        "import itertools\n",
        "\n",
        "def plot_confusion_matrix(cm, classes,\n",
        "                          normalize=False,\n",
        "                          title='Confusion matrix',\n",
        "                          cmap=plt.cm.Blues):\n",
        "    \"\"\"\n",
        "    This function prints and plots the confusion matrix.\n",
        "    Normalization can be applied by setting `normalize=True`.\n",
        "    \"\"\"\n",
        "    if normalize:\n",
        "        cm = cm.astype('float') / cm.sum(axis=1)[:, np.newaxis]\n",
        "        print(\"Normalized confusion matrix\")\n",
        "    else:\n",
        "        print('Confusion matrix')\n",
        "\n",
        "    print(cm)\n",
        "\n",
        "    plt.imshow(cm, interpolation='nearest', cmap=cmap)\n",
        "    plt.title(title)\n",
        "    plt.colorbar()\n",
        "    tick_marks = np.arange(len(classes))\n",
        "    plt.xticks(tick_marks, classes, rotation=45)\n",
        "    plt.yticks(tick_marks, classes)\n",
        "\n",
        "    fmt = '.2f' if normalize else 'd'\n",
        "    thresh = cm.max() / 2.\n",
        "    for i, j in itertools.product(range(cm.shape[0]), range(cm.shape[1])):\n",
        "        plt.text(j, i, format(cm[i, j], fmt),\n",
        "                 horizontalalignment=\"center\",\n",
        "                 color=\"white\" if cm[i, j] > thresh else \"black\")\n",
        "\n",
        "    plt.tight_layout()\n",
        "    plt.ylabel('True label')\n",
        "    plt.xlabel('Predicted label')\n",
        "    plt.show()  # Added for displaying the plot\n",
        "\n",
        "# Example usage:\n",
        "# Assuming 'y_true' and 'y_pred' are your true and predicted labels\n",
        "#y_true = np.array([1, 0, 1, 2, 1, 0, 2, 1])\n",
        "#y_pred = np.array([1, 0, 2, 2, 1, 0, 1, 2])\n",
        "\n",
        "# Compute confusion matrix\n",
        "#cm = confusion_matrix(y_true, y_pred)\n",
        "\n",
        "# Plot confusion matrix\n",
        "#plot_confusion_matrix(cm, classes=np.unique(y_true), normalize=True, title='Normalized Confusion Matrix')\n"
      ]
    },
    {
      "cell_type": "code",
      "execution_count": null,
      "id": "f9cfb06f",
      "metadata": {
        "id": "f9cfb06f"
      },
      "outputs": [],
      "source": [
        "plt.figure()\n",
        "plot_confusion_matrix(cnf_matrix, classes=['Cardio(0)','Cardio(1)'],normalize= False,  title='Confusion matrix')\n",
        "plt.style.use(\"seaborn\")"
      ]
    },
    {
      "cell_type": "markdown",
      "id": "32d9ae1b",
      "metadata": {
        "id": "32d9ae1b"
      },
      "source": [
        "# K - Nearest Neighbours"
      ]
    },
    {
      "cell_type": "code",
      "execution_count": null,
      "id": "f0b9f700",
      "metadata": {
        "id": "f0b9f700"
      },
      "outputs": [],
      "source": [
        "import numpy as np\n",
        "import pandas as pd\n",
        "import matplotlib.pyplot as plt\n",
        "from sklearn.preprocessing import StandardScaler\n",
        "from sklearn.model_selection import train_test_split\n",
        "from sklearn.metrics import mean_squared_error\n",
        "from math import sqrt\n",
        "import itertools\n",
        "from sklearn import metrics\n",
        "from sklearn.metrics import r2_score\n",
        "from sklearn.metrics import classification_report,confusion_matrix\n",
        "from training_and_testing_data import X_trainset, X_testset, Y_trainset, Y_testset\n",
        "from sklearn.neighbors import KNeighborsClassifier"
      ]
    },
    {
      "cell_type": "code",
      "execution_count": null,
      "id": "a0b0231a",
      "metadata": {
        "id": "a0b0231a"
      },
      "outputs": [],
      "source": [
        "Ks = 10\n",
        "mean_acc = np.zeros((Ks-1))\n",
        "std_acc = np.zeros((Ks-1))\n",
        "\n",
        "for n in range(1,Ks):\n",
        "\n",
        "    #Train Model and Predict\n",
        "    neigh = KNeighborsClassifier(n_neighbors = n).fit(X_trainset,Y_trainset)\n",
        "    yhat=neigh.predict(X_testset)\n",
        "    mean_acc[n-1] = metrics.accuracy_score(Y_testset, yhat)\n",
        "\n",
        "\n",
        "    std_acc[n-1]=np.std(yhat==Y_testset)/np.sqrt(yhat.shape[0])\n",
        "\n",
        "mean_acc"
      ]
    },
    {
      "cell_type": "code",
      "execution_count": null,
      "id": "d6e12548",
      "metadata": {
        "id": "d6e12548"
      },
      "outputs": [],
      "source": [
        "plt.plot(range(1,Ks),mean_acc,'g')\n",
        "plt.fill_between(range(1,Ks),mean_acc - 1 * std_acc,mean_acc + 1 * std_acc, alpha=0.10)\n",
        "plt.fill_between(range(1,Ks),mean_acc - 3 * std_acc,mean_acc + 3 * std_acc, alpha=0.10,color=\"green\")\n",
        "plt.legend(('Accuracy ', '+/- 1xstd','+/- 3xstd'))\n",
        "plt.ylabel('Accuracy ')\n",
        "plt.xlabel('Number of Neighbors (K)')\n",
        "plt.tight_layout()\n",
        "plt.show()"
      ]
    },
    {
      "cell_type": "code",
      "execution_count": null,
      "id": "ecd9b2ba",
      "metadata": {
        "id": "ecd9b2ba"
      },
      "outputs": [],
      "source": [
        "print( \"The best accuracy was with\", mean_acc.max(), \"with k=\", mean_acc.argmax()+1)"
      ]
    },
    {
      "cell_type": "code",
      "execution_count": null,
      "id": "fcc36b31",
      "metadata": {
        "id": "fcc36b31"
      },
      "outputs": [],
      "source": [
        "k = 9\n",
        "neigh = KNeighborsClassifier(n_neighbors = k).fit(X_trainset,Y_trainset)"
      ]
    },
    {
      "cell_type": "code",
      "execution_count": null,
      "id": "c3674f79",
      "metadata": {
        "id": "c3674f79"
      },
      "outputs": [],
      "source": [
        "y_hat = neigh.predict(X_testset)"
      ]
    },
    {
      "cell_type": "code",
      "execution_count": null,
      "id": "0537d563",
      "metadata": {
        "id": "0537d563"
      },
      "outputs": [],
      "source": [
        "print(confusion_matrix(Y_testset,y_hat))\n",
        "print(classification_report(Y_testset,y_hat))"
      ]
    },
    {
      "cell_type": "code",
      "execution_count": null,
      "id": "8b7b8f8a",
      "metadata": {
        "id": "8b7b8f8a"
      },
      "outputs": [],
      "source": [
        "def plot_confusion_matrix(cm, classes,\n",
        "                          normalize=False,\n",
        "                          title='Confusion matrix',\n",
        "                          cmap=plt.cm.Blues):\n",
        "    \"\"\"\n",
        "    This function prints and plots the confusion matrix.\n",
        "    Normalization can be applied by setting `normalize=True`.\n",
        "    \"\"\"\n",
        "    if normalize:\n",
        "        cm = cm.astype('float') / cm.sum(axis=1)[:, np.newaxis]\n",
        "        print(\"Normalized confusion matrix\")\n",
        "    else:\n",
        "        print('Confusion matrix, without normalization')\n",
        "\n",
        "    print(cm)\n",
        "\n",
        "    plt.imshow(cm, interpolation='nearest', cmap=cmap)\n",
        "    plt.title(title)\n",
        "    plt.colorbar()\n",
        "    tick_marks = np.arange(len(classes))\n",
        "    plt.xticks(tick_marks, classes, rotation=45)\n",
        "    plt.yticks(tick_marks, classes)\n",
        "\n",
        "    fmt = '.2f' if normalize else 'd'\n",
        "    thresh = cm.max() / 2.\n",
        "    for i, j in itertools.product(range(cm.shape[0]), range(cm.shape[1])):\n",
        "        plt.text(j, i, format(cm[i, j], fmt),\n",
        "                 horizontalalignment=\"center\",\n",
        "                 color=\"white\" if cm[i, j] > thresh else \"black\")\n",
        "\n",
        "    plt.tight_layout()\n",
        "    plt.ylabel('True label')\n",
        "    plt.xlabel('Predicted label')"
      ]
    },
    {
      "cell_type": "code",
      "execution_count": null,
      "id": "fe6f4115",
      "metadata": {
        "id": "fe6f4115"
      },
      "outputs": [],
      "source": [
        "cnf_matrix = confusion_matrix(Y_testset, y_hat)"
      ]
    },
    {
      "cell_type": "code",
      "execution_count": null,
      "id": "8a6ae0ec",
      "metadata": {
        "id": "8a6ae0ec"
      },
      "outputs": [],
      "source": [
        "plt.figure()\n",
        "plot_confusion_matrix(cnf_matrix, classes=['Cardio(0)','Cardio(1)'],normalize= False,  title='Confusion matrix')\n",
        "plt.style.use(\"seaborn\")"
      ]
    },
    {
      "cell_type": "markdown",
      "id": "229db1f5",
      "metadata": {
        "id": "229db1f5"
      },
      "source": [
        "# Random Forest"
      ]
    },
    {
      "cell_type": "code",
      "execution_count": null,
      "id": "aae162a1",
      "metadata": {
        "id": "aae162a1"
      },
      "outputs": [],
      "source": [
        "import numpy as np\n",
        "import pandas as pd\n",
        "from sklearn.preprocessing import StandardScaler\n",
        "from sklearn.model_selection import train_test_split\n",
        "from sklearn.metrics import mean_squared_error\n",
        "from math import sqrt\n",
        "from sklearn.metrics import r2_score\n",
        "from sklearn.neural_network import MLPClassifier\n",
        "from sklearn.metrics import classification_report,confusion_matrix\n",
        "from sklearn.ensemble import RandomForestClassifier\n",
        "from training_and_testing_data import X_trainset, X_testset, Y_trainset, Y_testset"
      ]
    },
    {
      "cell_type": "code",
      "execution_count": null,
      "id": "0e55adbe",
      "metadata": {
        "id": "0e55adbe"
      },
      "outputs": [],
      "source": [
        "forest_clf=RandomForestClassifier(n_jobs=3)"
      ]
    },
    {
      "cell_type": "code",
      "execution_count": null,
      "id": "c71ba2f8",
      "metadata": {
        "id": "c71ba2f8"
      },
      "outputs": [],
      "source": [
        "forest_clf.fit(X_trainset,Y_trainset)"
      ]
    },
    {
      "cell_type": "code",
      "execution_count": null,
      "id": "4387b8ba",
      "metadata": {
        "id": "4387b8ba"
      },
      "outputs": [],
      "source": [
        "y_hat=forest_clf.predict(X_testset)"
      ]
    },
    {
      "cell_type": "code",
      "execution_count": null,
      "id": "ca00ff28",
      "metadata": {
        "id": "ca00ff28"
      },
      "outputs": [],
      "source": [
        "print(confusion_matrix(Y_testset,y_hat))\n",
        "print(classification_report(Y_testset,y_hat))"
      ]
    },
    {
      "cell_type": "markdown",
      "id": "0d6c7fd9",
      "metadata": {
        "id": "0d6c7fd9"
      },
      "source": [
        "# Logical Regression"
      ]
    },
    {
      "cell_type": "code",
      "execution_count": null,
      "id": "9a4ecdee",
      "metadata": {
        "id": "9a4ecdee"
      },
      "outputs": [],
      "source": [
        "import numpy as np\n",
        "import pandas as pd\n",
        "from sklearn.preprocessing import StandardScaler\n",
        "from sklearn.model_selection import train_test_split\n",
        "from sklearn.metrics import mean_squared_error\n",
        "from math import sqrt\n",
        "from sklearn.metrics import r2_score\n",
        "from sklearn.neural_network import MLPClassifier\n",
        "from sklearn.metrics import classification_report,confusion_matrix\n",
        "from sklearn.ensemble import RandomForestClassifier\n",
        "from sklearn.linear_model import LogisticRegression\n",
        "from training_and_testing_data import X_trainset, X_testset, Y_trainset, Y_testset"
      ]
    },
    {
      "cell_type": "code",
      "execution_count": null,
      "id": "b9c8a91d",
      "metadata": {
        "id": "b9c8a91d"
      },
      "outputs": [],
      "source": [
        "logistic_classifer=LogisticRegression(solver='liblinear')"
      ]
    },
    {
      "cell_type": "code",
      "execution_count": null,
      "id": "7e0a982b",
      "metadata": {
        "id": "7e0a982b"
      },
      "outputs": [],
      "source": [
        "logistic_classifer.fit(X_testset, Y_testset)"
      ]
    },
    {
      "cell_type": "code",
      "execution_count": null,
      "id": "8af6cf98",
      "metadata": {
        "id": "8af6cf98"
      },
      "outputs": [],
      "source": [
        "y_hat = logistic_classifer.predict(X_testset)"
      ]
    },
    {
      "cell_type": "code",
      "execution_count": null,
      "id": "75618ddd",
      "metadata": {
        "id": "75618ddd"
      },
      "outputs": [],
      "source": [
        "print(confusion_matrix(Y_testset,y_hat))\n",
        "print(classification_report(Y_testset,y_hat))"
      ]
    },
    {
      "cell_type": "markdown",
      "id": "c89c26d8",
      "metadata": {
        "id": "c89c26d8"
      },
      "source": [
        "# Support Vector Machine"
      ]
    },
    {
      "cell_type": "code",
      "execution_count": null,
      "id": "49d39c11",
      "metadata": {
        "id": "49d39c11"
      },
      "outputs": [],
      "source": [
        "from sklearn.model_selection import train_test_split\n",
        "from sklearn.linear_model import LogisticRegression\n",
        "from sklearn.metrics import accuracy_score"
      ]
    },
    {
      "cell_type": "code",
      "execution_count": null,
      "id": "d9f2c074",
      "metadata": {
        "id": "d9f2c074"
      },
      "outputs": [],
      "source": [
        "X = data.drop(columns='cardio', axis=1)\n",
        "Y = data['cardio']"
      ]
    },
    {
      "cell_type": "code",
      "execution_count": null,
      "id": "0b1345f0",
      "metadata": {
        "id": "0b1345f0"
      },
      "outputs": [],
      "source": [
        "print(X)"
      ]
    },
    {
      "cell_type": "code",
      "execution_count": null,
      "id": "f5bcc678",
      "metadata": {
        "id": "f5bcc678"
      },
      "outputs": [],
      "source": [
        "print(Y)"
      ]
    },
    {
      "cell_type": "code",
      "execution_count": null,
      "id": "68271048",
      "metadata": {
        "id": "68271048"
      },
      "outputs": [],
      "source": [
        "X_train, X_test, Y_train, Y_test = train_test_split(X, Y, train_size=0.2)"
      ]
    },
    {
      "cell_type": "code",
      "execution_count": null,
      "id": "df012321",
      "metadata": {
        "id": "df012321"
      },
      "outputs": [],
      "source": [
        "len(X_train)"
      ]
    },
    {
      "cell_type": "code",
      "execution_count": null,
      "id": "e6766482",
      "metadata": {
        "id": "e6766482"
      },
      "outputs": [],
      "source": [
        "len(X_test)"
      ]
    },
    {
      "cell_type": "code",
      "execution_count": null,
      "id": "6a9e4bce",
      "metadata": {
        "id": "6a9e4bce"
      },
      "outputs": [],
      "source": [
        "len(Y_train)"
      ]
    },
    {
      "cell_type": "code",
      "execution_count": null,
      "id": "b74a2a3d",
      "metadata": {
        "id": "b74a2a3d"
      },
      "outputs": [],
      "source": [
        "len(Y_test)"
      ]
    },
    {
      "cell_type": "code",
      "execution_count": null,
      "id": "c89d755d",
      "metadata": {
        "id": "c89d755d"
      },
      "outputs": [],
      "source": [
        "from sklearn.svm import SVC\n",
        "model=SVC()"
      ]
    },
    {
      "cell_type": "code",
      "execution_count": null,
      "id": "49ce40a8",
      "metadata": {
        "id": "49ce40a8"
      },
      "outputs": [],
      "source": [
        "model.fit(X_train,Y_train)"
      ]
    },
    {
      "cell_type": "code",
      "execution_count": null,
      "id": "0ceed70e",
      "metadata": {
        "id": "0ceed70e"
      },
      "outputs": [],
      "source": [
        "model.score(X_test,Y_test)"
      ]
    },
    {
      "cell_type": "code",
      "execution_count": null,
      "id": "3faf23e0",
      "metadata": {
        "id": "3faf23e0"
      },
      "outputs": [],
      "source": [
        "model.predict(X_train)"
      ]
    },
    {
      "cell_type": "code",
      "execution_count": null,
      "id": "214de8ce",
      "metadata": {
        "id": "214de8ce"
      },
      "outputs": [],
      "source": [
        "print(X.shape, X_train.shape, X_test.shape)"
      ]
    },
    {
      "cell_type": "code",
      "execution_count": null,
      "id": "384a3390",
      "metadata": {
        "id": "384a3390"
      },
      "outputs": [],
      "source": [
        "# accuracy on training data\n",
        "X_train_prediction = model.predict(X_train)\n",
        "training_data_accuracy = accuracy_score(X_train_prediction, Y_train)"
      ]
    },
    {
      "cell_type": "code",
      "execution_count": null,
      "id": "b4861d89",
      "metadata": {
        "id": "b4861d89"
      },
      "outputs": [],
      "source": [
        "print('Accuracy on Training data : ', training_data_accuracy)"
      ]
    },
    {
      "cell_type": "code",
      "execution_count": null,
      "id": "3fe725cb",
      "metadata": {
        "id": "3fe725cb"
      },
      "outputs": [],
      "source": [
        "# accuracy on test data\n",
        "X_test_prediction = model.predict(X_test)\n",
        "test_data_accuracy = accuracy_score(X_test_prediction, Y_test)"
      ]
    },
    {
      "cell_type": "code",
      "execution_count": null,
      "id": "0bd7be9d",
      "metadata": {
        "id": "0bd7be9d"
      },
      "outputs": [],
      "source": [
        "print('Accuracy on Test data : ', test_data_accuracy)"
      ]
    },
    {
      "cell_type": "markdown",
      "id": "759f1526",
      "metadata": {
        "id": "759f1526"
      },
      "source": [
        "# M L Model  "
      ]
    },
    {
      "cell_type": "code",
      "execution_count": null,
      "id": "7ff71be0",
      "metadata": {
        "id": "7ff71be0"
      },
      "outputs": [],
      "source": [
        "# The values of the input data are the values of the following data:age,gender,cholesterol,gluc,smoke,alco,active,male,female,bmi,bpc\n",
        "# The machine learning model pridicts the value of 'cardio' in terms of 0 and 1\n",
        "# If the value of cardio is 0 then the person does not have cardiovascular disease if the value is 1 the the person is suffering from cardiovascular disease.\n",
        "input_data = (18393,2,1,1,0,0,1,1,0,21.9671201814059,3)\n",
        "\n",
        "# change the input data to a numpy array\n",
        "input_data_as_numpy_array= np.asarray(input_data)\n",
        "\n",
        "# reshape the numpy array as we are predicting for only on instance\n",
        "input_data_reshaped = input_data_as_numpy_array.reshape(1,-1)\n",
        "\n",
        "prediction = model.predict(input_data_reshaped)\n",
        "print(prediction)\n",
        "\n",
        "if (prediction[0]== 0):\n",
        "  print('The Person does not have a Cardiovascular Disease')\n",
        "else:\n",
        "  print('The Person has Cardiovascular Disease')"
      ]
    },
    {
      "cell_type": "code",
      "execution_count": null,
      "id": "b3cca0e0",
      "metadata": {
        "id": "b3cca0e0"
      },
      "outputs": [],
      "source": [
        "models = {\n",
        "    'Support Vector Machine': SVC(),\n",
        "    'K-Nearest Neighbor': KNeighborsClassifier(),\n",
        "    'Decision Tree': DecisionTreeClassifier(),\n",
        "    'Logistic Regression': LogisticRegression(),\n",
        "    'Random Forest': RandomForestClassifier()\n",
        "}"
      ]
    },
    {
      "cell_type": "code",
      "execution_count": null,
      "id": "df13b631",
      "metadata": {
        "id": "df13b631"
      },
      "outputs": [],
      "source": [
        "final_model = RandomForestClassifier()  # You can choose the best-performing model\n",
        "final_model.fit(X, y)"
      ]
    }
  ],
  "metadata": {
    "kernelspec": {
      "display_name": "Python 3",
      "language": "python",
      "name": "python3"
    },
    "language_info": {
      "codemirror_mode": {
        "name": "ipython",
        "version": 3
      },
      "file_extension": ".py",
      "mimetype": "text/x-python",
      "name": "python",
      "nbconvert_exporter": "python",
      "pygments_lexer": "ipython3",
      "version": "3.11.5"
    },
    "colab": {
      "provenance": [],
      "include_colab_link": true
    }
  },
  "nbformat": 4,
  "nbformat_minor": 5
}